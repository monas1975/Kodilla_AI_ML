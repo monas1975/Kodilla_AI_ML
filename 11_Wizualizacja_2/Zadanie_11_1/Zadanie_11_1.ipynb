{
 "cells": [
  {
   "cell_type": "markdown",
   "id": "5495db56-a85e-4c1d-8152-c236d4ac6fb9",
   "metadata": {},
   "source": [
    "### Zadanie 11_1"
   ]
  },
  {
   "cell_type": "code",
   "execution_count": 1,
   "id": "392d1226-ea67-41f9-9d34-ecdace340c5e",
   "metadata": {},
   "outputs": [],
   "source": [
    "import pandas as pd"
   ]
  },
  {
   "cell_type": "code",
   "execution_count": 2,
   "id": "6f4e2db1-00ad-4595-ad33-9dc7ab1f2a42",
   "metadata": {},
   "outputs": [],
   "source": [
    "import numpy as np"
   ]
  },
  {
   "cell_type": "code",
   "execution_count": 3,
   "id": "29c6abb4-c37f-4ecb-bd9c-266274227787",
   "metadata": {},
   "outputs": [
    {
     "data": {
      "text/html": [
       "        <script type=\"text/javascript\">\n",
       "        window.PlotlyConfig = {MathJaxConfig: 'local'};\n",
       "        if (window.MathJax) {MathJax.Hub.Config({SVG: {font: \"STIX-Web\"}});}\n",
       "        if (typeof require !== 'undefined') {\n",
       "        require.undef(\"plotly\");\n",
       "        requirejs.config({\n",
       "            paths: {\n",
       "                'plotly': ['https://cdn.plot.ly/plotly-latest.min']\n",
       "            }\n",
       "        });\n",
       "        require(['plotly'], function(Plotly) {\n",
       "            window._Plotly = Plotly;\n",
       "        });\n",
       "        }\n",
       "        </script>\n",
       "        "
      ]
     },
     "metadata": {},
     "output_type": "display_data"
    }
   ],
   "source": [
    "import cufflinks as cf\n",
    "cf.go_offline()"
   ]
  },
  {
   "cell_type": "code",
   "execution_count": 4,
   "id": "9b9c1671-da01-4cae-a3cc-d8c05d568cfb",
   "metadata": {},
   "outputs": [
    {
     "data": {
      "text/html": [
       "        <script type=\"text/javascript\">\n",
       "        window.PlotlyConfig = {MathJaxConfig: 'local'};\n",
       "        if (window.MathJax) {MathJax.Hub.Config({SVG: {font: \"STIX-Web\"}});}\n",
       "        if (typeof require !== 'undefined') {\n",
       "        require.undef(\"plotly\");\n",
       "        requirejs.config({\n",
       "            paths: {\n",
       "                'plotly': ['https://cdn.plot.ly/plotly-latest.min']\n",
       "            }\n",
       "        });\n",
       "        require(['plotly'], function(Plotly) {\n",
       "            window._Plotly = Plotly;\n",
       "        });\n",
       "        }\n",
       "        </script>\n",
       "        "
      ]
     },
     "metadata": {},
     "output_type": "display_data"
    }
   ],
   "source": [
    "import plotly.offline as pyo\n",
    "from plotly.offline import download_plotlyjs, init_notebook_mode, plot, iplot\n",
    "init_notebook_mode(connected=True)"
   ]
  },
  {
   "cell_type": "code",
   "execution_count": 5,
   "id": "4bf1aec0-80ac-4201-907b-2460b5eaffb0",
   "metadata": {},
   "outputs": [],
   "source": [
    "import plotly.offline as pyo\n",
    "import plotly.graph_objects as go"
   ]
  },
  {
   "cell_type": "code",
   "execution_count": 6,
   "id": "6e52aac8-a3cf-45c9-8578-9b64e64b4274",
   "metadata": {},
   "outputs": [],
   "source": [
    "import plotly.io as pio\n",
    "#pio.renderers.default = \"notebook\"   # albo \"notebook_connected\"\n",
    "pio.renderers.default = \"iframe\""
   ]
  },
  {
   "cell_type": "code",
   "execution_count": 7,
   "id": "2b83dcea-9d3c-4904-92e7-5b4bf95f056c",
   "metadata": {},
   "outputs": [],
   "source": [
    "import plotly.graph_objects as go\n",
    "from plotly.subplots import make_subplots"
   ]
  },
  {
   "cell_type": "markdown",
   "id": "94ebed07-4582-4cd6-a23f-bd16816647fc",
   "metadata": {},
   "source": [
    "##### 1) Pobierz dane dotyczące cen akcji KGHM oraz cen miedzi.<br> 2)Stwórz dwa osobne wykresy liniowe (jeden pod drugim) – jeden niech przedstawia ceny zamknięcia KGHM, drugi niech przedstawia ceny miedzi (na podstawie kolumn \"Zamknięcie\").<br> 3)Jako trzeci element wykresu dodaj tabelę zestawiającą ceny zamknięcia KGHM oraz miedzi w kolejnych dniach (ponownie na podstawie kolumny \"Zamknięcie\"). <br> 4) Wykresowi nadaj odpowiednie tytuły, zadbaj, aby wykresy miały wspólną oś x."
   ]
  },
  {
   "cell_type": "code",
   "execution_count": 8,
   "id": "9042fb80-a3e8-4bf4-9ec1-31eca11ac24b",
   "metadata": {},
   "outputs": [],
   "source": [
    "# pobieram dane odnosnie ceny miedzi\n",
    "ca_price=pd.read_csv('ca_c_f_d.csv')"
   ]
  },
  {
   "cell_type": "code",
   "execution_count": 9,
   "id": "0200eb79-b747-4aa2-ad9a-e432f4c22480",
   "metadata": {},
   "outputs": [
    {
     "data": {
      "text/html": [
       "<div>\n",
       "<style scoped>\n",
       "    .dataframe tbody tr th:only-of-type {\n",
       "        vertical-align: middle;\n",
       "    }\n",
       "\n",
       "    .dataframe tbody tr th {\n",
       "        vertical-align: top;\n",
       "    }\n",
       "\n",
       "    .dataframe thead th {\n",
       "        text-align: right;\n",
       "    }\n",
       "</style>\n",
       "<table border=\"1\" class=\"dataframe\">\n",
       "  <thead>\n",
       "    <tr style=\"text-align: right;\">\n",
       "      <th></th>\n",
       "      <th>Data</th>\n",
       "      <th>Otwarcie</th>\n",
       "      <th>Najwyzszy</th>\n",
       "      <th>Najnizszy</th>\n",
       "      <th>Zamkniecie</th>\n",
       "    </tr>\n",
       "  </thead>\n",
       "  <tbody>\n",
       "    <tr>\n",
       "      <th>0</th>\n",
       "      <td>2015-01-02</td>\n",
       "      <td>6309.0</td>\n",
       "      <td>6309.0</td>\n",
       "      <td>6309.0</td>\n",
       "      <td>6309.0</td>\n",
       "    </tr>\n",
       "    <tr>\n",
       "      <th>1</th>\n",
       "      <td>2015-01-05</td>\n",
       "      <td>6216.0</td>\n",
       "      <td>6216.0</td>\n",
       "      <td>6216.0</td>\n",
       "      <td>6216.0</td>\n",
       "    </tr>\n",
       "    <tr>\n",
       "      <th>2</th>\n",
       "      <td>2015-01-06</td>\n",
       "      <td>6191.0</td>\n",
       "      <td>6191.0</td>\n",
       "      <td>6191.0</td>\n",
       "      <td>6191.0</td>\n",
       "    </tr>\n",
       "    <tr>\n",
       "      <th>3</th>\n",
       "      <td>2015-01-07</td>\n",
       "      <td>6170.0</td>\n",
       "      <td>6170.0</td>\n",
       "      <td>6170.0</td>\n",
       "      <td>6170.0</td>\n",
       "    </tr>\n",
       "    <tr>\n",
       "      <th>4</th>\n",
       "      <td>2015-01-08</td>\n",
       "      <td>6230.5</td>\n",
       "      <td>6230.5</td>\n",
       "      <td>6230.5</td>\n",
       "      <td>6230.5</td>\n",
       "    </tr>\n",
       "  </tbody>\n",
       "</table>\n",
       "</div>"
      ],
      "text/plain": [
       "         Data  Otwarcie  Najwyzszy  Najnizszy  Zamkniecie\n",
       "0  2015-01-02    6309.0     6309.0     6309.0      6309.0\n",
       "1  2015-01-05    6216.0     6216.0     6216.0      6216.0\n",
       "2  2015-01-06    6191.0     6191.0     6191.0      6191.0\n",
       "3  2015-01-07    6170.0     6170.0     6170.0      6170.0\n",
       "4  2015-01-08    6230.5     6230.5     6230.5      6230.5"
      ]
     },
     "execution_count": 9,
     "metadata": {},
     "output_type": "execute_result"
    }
   ],
   "source": [
    "ca_price.head()"
   ]
  },
  {
   "cell_type": "code",
   "execution_count": 10,
   "id": "a304d960-48d0-41ef-907f-7faec42f099b",
   "metadata": {},
   "outputs": [],
   "source": [
    "# pobieram dane odnosnie ceny akcji\n",
    "KGHM_price=pd.read_csv('kgh_d.csv')"
   ]
  },
  {
   "cell_type": "code",
   "execution_count": 11,
   "id": "eb25f6c6-0ac0-45ff-a544-5880a99618d4",
   "metadata": {},
   "outputs": [
    {
     "data": {
      "text/html": [
       "<div>\n",
       "<style scoped>\n",
       "    .dataframe tbody tr th:only-of-type {\n",
       "        vertical-align: middle;\n",
       "    }\n",
       "\n",
       "    .dataframe tbody tr th {\n",
       "        vertical-align: top;\n",
       "    }\n",
       "\n",
       "    .dataframe thead th {\n",
       "        text-align: right;\n",
       "    }\n",
       "</style>\n",
       "<table border=\"1\" class=\"dataframe\">\n",
       "  <thead>\n",
       "    <tr style=\"text-align: right;\">\n",
       "      <th></th>\n",
       "      <th>Data</th>\n",
       "      <th>Otwarcie</th>\n",
       "      <th>Najwyzszy</th>\n",
       "      <th>Najnizszy</th>\n",
       "      <th>Zamkniecie</th>\n",
       "      <th>Wolumen</th>\n",
       "    </tr>\n",
       "  </thead>\n",
       "  <tbody>\n",
       "    <tr>\n",
       "      <th>0</th>\n",
       "      <td>2015-01-02</td>\n",
       "      <td>102.45</td>\n",
       "      <td>102.83</td>\n",
       "      <td>101.97</td>\n",
       "      <td>102.40</td>\n",
       "      <td>309987</td>\n",
       "    </tr>\n",
       "    <tr>\n",
       "      <th>1</th>\n",
       "      <td>2015-01-05</td>\n",
       "      <td>102.16</td>\n",
       "      <td>102.88</td>\n",
       "      <td>99.91</td>\n",
       "      <td>100.09</td>\n",
       "      <td>479228</td>\n",
       "    </tr>\n",
       "    <tr>\n",
       "      <th>2</th>\n",
       "      <td>2015-01-07</td>\n",
       "      <td>100.53</td>\n",
       "      <td>105.45</td>\n",
       "      <td>99.67</td>\n",
       "      <td>104.89</td>\n",
       "      <td>966372</td>\n",
       "    </tr>\n",
       "    <tr>\n",
       "      <th>3</th>\n",
       "      <td>2015-01-08</td>\n",
       "      <td>105.35</td>\n",
       "      <td>107.15</td>\n",
       "      <td>105.35</td>\n",
       "      <td>107.11</td>\n",
       "      <td>711805</td>\n",
       "    </tr>\n",
       "    <tr>\n",
       "      <th>4</th>\n",
       "      <td>2015-01-09</td>\n",
       "      <td>107.15</td>\n",
       "      <td>107.15</td>\n",
       "      <td>103.87</td>\n",
       "      <td>104.33</td>\n",
       "      <td>563221</td>\n",
       "    </tr>\n",
       "  </tbody>\n",
       "</table>\n",
       "</div>"
      ],
      "text/plain": [
       "         Data  Otwarcie  Najwyzszy  Najnizszy  Zamkniecie  Wolumen\n",
       "0  2015-01-02    102.45     102.83     101.97      102.40   309987\n",
       "1  2015-01-05    102.16     102.88      99.91      100.09   479228\n",
       "2  2015-01-07    100.53     105.45      99.67      104.89   966372\n",
       "3  2015-01-08    105.35     107.15     105.35      107.11   711805\n",
       "4  2015-01-09    107.15     107.15     103.87      104.33   563221"
      ]
     },
     "execution_count": 11,
     "metadata": {},
     "output_type": "execute_result"
    }
   ],
   "source": [
    "KGHM_price.head()"
   ]
  },
  {
   "cell_type": "code",
   "execution_count": 12,
   "id": "77c9dc1f-b37b-43af-af31-1880c2315293",
   "metadata": {},
   "outputs": [
    {
     "data": {
      "text/plain": [
       "\"\\nx1=ca_price['Zamkniecie']\\ny1=ca_price['Data']\\nx2=KGHM_price['Zamkniecie'] \\n\""
      ]
     },
     "execution_count": 12,
     "metadata": {},
     "output_type": "execute_result"
    }
   ],
   "source": [
    "\"\"\"\n",
    "x1=ca_price['Zamkniecie']\n",
    "y1=ca_price['Data']\n",
    "x2=KGHM_price['Zamkniecie'] \n",
    "\"\"\""
   ]
  },
  {
   "cell_type": "code",
   "execution_count": 13,
   "id": "61b4fb67-a3c4-486c-a1de-bb2e9d683b15",
   "metadata": {},
   "outputs": [],
   "source": [
    "# Tworzymy dwa podwykresy w jednej kolumnie\n",
    "fig = make_subplots(rows=2, cols=1, \n",
    "                    subplot_titles=(\"Ceny zamknięcia KGHM\", \"Ceny zamknięcia Miedzi\"))\n"
   ]
  },
  {
   "cell_type": "code",
   "execution_count": null,
   "id": "97136449-f98e-4e53-9f21-3dbabc4a3090",
   "metadata": {},
   "outputs": [],
   "source": []
  },
  {
   "cell_type": "code",
   "execution_count": 14,
   "id": "817bd27b-ca74-48c3-82cf-2ab726213f4a",
   "metadata": {},
   "outputs": [
    {
     "data": {
      "text/html": [
       "<iframe\n",
       "    scrolling=\"no\"\n",
       "    width=\"100%\"\n",
       "    height=\"920\"\n",
       "    src=\"iframe_figures/figure_14.html\"\n",
       "    frameborder=\"0\"\n",
       "    allowfullscreen\n",
       "></iframe>\n"
      ]
     },
     "metadata": {},
     "output_type": "display_data"
    }
   ],
   "source": [
    "fig = make_subplots(\n",
    "    rows=3, cols=1,\n",
    "    shared_xaxes=True,\n",
    "    subplot_titles=(\"Ceny KGHM\", \"Ceny miedzi\", \"Tabela porównawcza\"),\n",
    "    specs=[[{\"type\": \"xy\"}],\n",
    "           [{\"type\": \"xy\"}],\n",
    "           [{\"type\": \"table\"}]]\n",
    ")\n",
    "\n",
    "# --- Wykres KGHM ---\n",
    "fig.add_trace(\n",
    "    go.Scatter(\n",
    "        x=KGHM_price['Data'],\n",
    "        y=KGHM_price['Zamkniecie'],\n",
    "        mode='lines',\n",
    "        name=\"KGHM\",\n",
    "        legendgroup=\"KGHM\",\n",
    "    ),\n",
    "    row=1, col=1\n",
    ")\n",
    "\n",
    "# --- Wykres miedzi ---\n",
    "fig.add_trace(\n",
    "    go.Scatter(\n",
    "        x=KGHM_price['Data'],\n",
    "        y=ca_price['Zamkniecie'],\n",
    "        mode='lines',\n",
    "        name=\"Miedź\",\n",
    "        legendgroup=\"Miedź\"\n",
    "    ),\n",
    "    row=2, col=1\n",
    ")\n",
    "\n",
    "# --- Tabela porównawcza ---\n",
    "fig.add_trace(\n",
    "    go.Table(\n",
    "        header=dict(values=[\"Data\", \"KGHM - Zamknięcie\", \"Miedź - Zamknięcie\"],\n",
    "                    fill_color=\"lightgrey\",\n",
    "                    align=\"center\"),\n",
    "        cells=dict(values=[\n",
    "            KGHM_price['Data'],\n",
    "            KGHM_price['Zamkniecie'],\n",
    "            ca_price['Zamkniecie']\n",
    "        ],\n",
    "                   align=\"center\")\n",
    "    ),\n",
    "    row=3, col=1\n",
    ")\n",
    "\n",
    "# Layout\n",
    "fig.update_layout(height=900, showlegend=True, title_text=\"Analiza cen KGHM i miedzi\")\n",
    "fig.show()"
   ]
  },
  {
   "cell_type": "code",
   "execution_count": null,
   "id": "8567f8ec-12ce-4d8a-ab9c-18c5daf1672c",
   "metadata": {},
   "outputs": [],
   "source": []
  }
 ],
 "metadata": {
  "kernelspec": {
   "display_name": "Python 3 (ipykernel)",
   "language": "python",
   "name": "python3"
  },
  "language_info": {
   "codemirror_mode": {
    "name": "ipython",
    "version": 3
   },
   "file_extension": ".py",
   "mimetype": "text/x-python",
   "name": "python",
   "nbconvert_exporter": "python",
   "pygments_lexer": "ipython3",
   "version": "3.11.13"
  }
 },
 "nbformat": 4,
 "nbformat_minor": 5
}
