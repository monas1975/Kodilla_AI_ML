{
 "cells": [
  {
   "cell_type": "markdown",
   "id": "0395ae75-3dc3-48dc-b7e3-6ae21403cd0e",
   "metadata": {},
   "source": [
    "# Zadanie 7_6"
   ]
  },
  {
   "cell_type": "code",
   "execution_count": 1,
   "id": "d237260f-1b39-46ea-9292-ffe991c29895",
   "metadata": {},
   "outputs": [
    {
     "name": "stdout",
     "output_type": "stream",
     "text": [
      "Requirement already satisfied: numpy-financial==1.0.0 in c:\\users\\monas\\anaconda3\\lib\\site-packages (1.0.0)\n",
      "Requirement already satisfied: numpy>=1.15 in c:\\users\\monas\\anaconda3\\lib\\site-packages (from numpy-financial==1.0.0) (2.1.3)\n",
      "Note: you may need to restart the kernel to use updated packages.\n"
     ]
    }
   ],
   "source": [
    "pip install numpy-financial==1.0.0"
   ]
  },
  {
   "cell_type": "code",
   "execution_count": 2,
   "id": "6ea76b33-5d19-4241-b00c-1e0cc9aa0376",
   "metadata": {},
   "outputs": [],
   "source": [
    "import numpy as np\n",
    "import numpy_financial as npf"
   ]
  },
  {
   "cell_type": "code",
   "execution_count": 3,
   "id": "d0a51ec6-53d2-4be0-91b0-eadd0997bbc3",
   "metadata": {},
   "outputs": [],
   "source": [
    "flat_price = 120000\n",
    "flat_rate = 0.05\n",
    "years = 5\n",
    "freq_flat = 1\n",
    "nper1 = years *freq_flat\n",
    "periods1 = np.arange(1,nper1+1,dtype =int)\n",
    "flat_values=[]"
   ]
  },
  {
   "cell_type": "markdown",
   "id": "a1a7b2de-966b-407d-8450-9b588139d502",
   "metadata": {},
   "source": [
    "### Obliczenie wzrostu wartości mieszkania"
   ]
  },
  {
   "cell_type": "code",
   "execution_count": 4,
   "id": "9bbb7fef-777b-41b6-8871-48e10ba66b35",
   "metadata": {
    "scrolled": true
   },
   "outputs": [
    {
     "data": {
      "text/plain": [
       "[120000,\n",
       " 120500.0,\n",
       " 121002.08333333333,\n",
       " 121506.25868055555,\n",
       " 122012.5347583912,\n",
       " 122520.92031988449,\n",
       " 123031.42415455068,\n",
       " 123544.05508852798,\n",
       " 124058.82198473018,\n",
       " 124575.73374299989,\n",
       " 125094.79930026238,\n",
       " 125616.02763068014,\n",
       " 126139.42774580797,\n",
       " 126665.00869474885,\n",
       " 127192.7795643103,\n",
       " 127722.74947916159,\n",
       " 128254.92760199143,\n",
       " 128789.32313366639,\n",
       " 129325.94531339,\n",
       " 129864.80341886246,\n",
       " 130405.90676644105,\n",
       " 130949.26471130122,\n",
       " 131494.88664759832,\n",
       " 132042.78200863,\n",
       " 132592.9602669993,\n",
       " 133145.43093477844,\n",
       " 133700.20356367336,\n",
       " 134257.28774518866,\n",
       " 134816.69311079363,\n",
       " 135378.4293320886,\n",
       " 135942.5061209723,\n",
       " 136508.93322980969,\n",
       " 137077.72045160056,\n",
       " 137648.87762014888,\n",
       " 138222.41461023284,\n",
       " 138798.34133777546,\n",
       " 139376.6677600162,\n",
       " 139957.40387568294,\n",
       " 140540.55972516496,\n",
       " 141126.1453906865,\n",
       " 141714.17099648103,\n",
       " 142304.64670896638,\n",
       " 142897.5827369204,\n",
       " 143492.98933165756,\n",
       " 144090.87678720613,\n",
       " 144691.25544048616,\n",
       " 145294.13567148818,\n",
       " 145899.52790345272,\n",
       " 146507.44260305044,\n",
       " 147117.89028056315,\n",
       " 147730.88149006548,\n",
       " 148346.42682960743,\n",
       " 148964.53694139747,\n",
       " 149585.22251198662,\n",
       " 150208.49427245324,\n",
       " 150834.36299858848,\n",
       " 151462.8395110826,\n",
       " 152093.9346757121,\n",
       " 152727.65940352756,\n",
       " 153364.02465104227,\n",
       " 154003.04142042162]"
      ]
     },
     "execution_count": 4,
     "metadata": {},
     "output_type": "execute_result"
    }
   ],
   "source": [
    "flat_value = flat_price\n",
    "flat_values.append(flat_value)\n",
    "for i in range(1,61):\n",
    "    flat_value = flat_value + (flat_value*(flat_rate/12))\n",
    "    flat_values.append(flat_value)\n",
    "flat_values\n"
   ]
  },
  {
   "cell_type": "code",
   "execution_count": null,
   "id": "a68f6849-9f39-4f58-b776-754ed2008282",
   "metadata": {},
   "outputs": [],
   "source": []
  },
  {
   "cell_type": "markdown",
   "id": "6d2f2eb2-7cc0-4337-a8da-b3a906935b3c",
   "metadata": {},
   "source": [
    "#### Wartość nieruchomości po 5 latach"
   ]
  },
  {
   "cell_type": "code",
   "execution_count": 5,
   "id": "6db77ca3-ffef-4595-99ae-e5f9dcc3269b",
   "metadata": {},
   "outputs": [
    {
     "data": {
      "text/plain": [
       "154003.04"
      ]
     },
     "execution_count": 5,
     "metadata": {},
     "output_type": "execute_result"
    }
   ],
   "source": [
    "round(flat_values[-1],2)"
   ]
  },
  {
   "cell_type": "markdown",
   "id": "72606bdb-4d0d-47e5-b517-ad54e3c47856",
   "metadata": {},
   "source": [
    "### Obliczenie wysokości miesięcznych wplat na lokatę"
   ]
  },
  {
   "cell_type": "code",
   "execution_count": 6,
   "id": "5ad924ad-ca2a-42bb-898d-24d8a8f74f55",
   "metadata": {},
   "outputs": [],
   "source": [
    "saving_target = round(flat_values[-1],2)\n",
    "years = 5\n",
    "saving_period = years *12 # 60\n",
    "yearly_rate = 0.12\n",
    "monthly_rate = yearly_rate / 12 # 0.01\n",
    "initial_founds = 0\n"
   ]
  },
  {
   "cell_type": "code",
   "execution_count": 7,
   "id": "3ec1ba9b-76a6-4eef-bb5f-f48f3b72baed",
   "metadata": {},
   "outputs": [
    {
     "data": {
      "text/plain": [
       "np.float64(1885.68)"
      ]
     },
     "execution_count": 7,
     "metadata": {},
     "output_type": "execute_result"
    }
   ],
   "source": [
    "monthly_payment = npf.pmt(monthly_rate, saving_period,initial_founds,-saving_target)\n",
    "round(monthly_payment,2)"
   ]
  },
  {
   "cell_type": "markdown",
   "id": "c7cfbb87-170e-4118-876f-31c3dd3de588",
   "metadata": {},
   "source": [
    "#### obliczenie oszczędności w poszczególnych okresach płatności\n"
   ]
  },
  {
   "cell_type": "code",
   "execution_count": 8,
   "id": "9a8ba766-3a84-4db0-bdaf-ebb421f63d06",
   "metadata": {},
   "outputs": [
    {
     "data": {
      "text/plain": [
       "list"
      ]
     },
     "execution_count": 8,
     "metadata": {},
     "output_type": "execute_result"
    }
   ],
   "source": [
    "periods = np.arange(1,saving_period+1)\n",
    "saving_values = []\n",
    "monthly_payment = round(monthly_payment,2)\n",
    "type(saving_values)"
   ]
  },
  {
   "cell_type": "code",
   "execution_count": 9,
   "id": "58680d1c-c91c-48e8-8e5a-ed2ba6267508",
   "metadata": {},
   "outputs": [],
   "source": [
    "for period in periods:\n",
    "    value = npf.fv(monthly_rate, period, -monthly_payment, initial_founds)\n",
    "    #print(round(value,2))\n",
    "    #saving_values.append(round(value,2))\n",
    "    saving_values.append(value)"
   ]
  },
  {
   "cell_type": "code",
   "execution_count": 10,
   "id": "5cdf04b9-c4b6-4ca9-92e5-bd48ec17f776",
   "metadata": {},
   "outputs": [
    {
     "data": {
      "text/plain": [
       "array([  1885.68      ,   3790.2168    ,   5713.798968  , 147252.86369457,\n",
       "       150611.07233152, 154002.86305483])"
      ]
     },
     "execution_count": 10,
     "metadata": {},
     "output_type": "execute_result"
    }
   ],
   "source": [
    "arr_saving_values = np.array(saving_values)\n",
    "arr_saving_values[[0,1,2,-3,-2,-1]]"
   ]
  },
  {
   "cell_type": "markdown",
   "id": "c3e6548c-f9a6-4467-896d-fc87474989ea",
   "metadata": {},
   "source": [
    "## Odpowiedzi\n",
    "1) Cena mieszkania a 5 lat szacowana jest na 154003.04\n",
    "2) Aby uzbierać fundusze na zakup mieszkania, należy wpłacać co miesiąc 1885.68 (przy stopie procentowej 12%)\n",
    "3) Wykres poniżej:"
   ]
  },
  {
   "cell_type": "code",
   "execution_count": 11,
   "id": "aa012c74-50fa-446f-afb1-13800afecd16",
   "metadata": {},
   "outputs": [
    {
     "data": {
      "text/plain": [
       "Text(0, 0.5, 'Wzrost wartośc')"
      ]
     },
     "execution_count": 11,
     "metadata": {},
     "output_type": "execute_result"
    },
    {
     "data": {
      "image/png": "[encoded data removed]",
      "text/plain": [
       "<Figure size 640x480 with 1 Axes>"
      ]
     },
     "metadata": {},
     "output_type": "display_data"
    }
   ],
   "source": [
    "import matplotlib.pyplot as plt\n",
    "plt.plot(flat_values,label='wzrost ceny mieszkania')\n",
    "plt.plot(arr_saving_values,label='oszczędności')\n",
    "plt.legend()\n",
    "plt.xlabel('Liczba okresów')\n",
    "plt.ylabel('Wzrost wartośc')"
   ]
  },
  {
   "cell_type": "code",
   "execution_count": null,
   "id": "13102577-c95d-44f9-837a-d1184cf23fad",
   "metadata": {},
   "outputs": [],
   "source": []
  }
 ],
 "metadata": {
  "kernelspec": {
   "display_name": "Python 3 (ipykernel)",
   "language": "python",
   "name": "python3"
  },
  "language_info": {
   "codemirror_mode": {
    "name": "ipython",
    "version": 3
   },
   "file_extension": ".py",
   "mimetype": "text/x-python",
   "name": "python",
   "nbconvert_exporter": "python",
   "pygments_lexer": "ipython3",
   "version": "3.13.5"
  }
 },
 "nbformat": 4,
 "nbformat_minor": 5
}
