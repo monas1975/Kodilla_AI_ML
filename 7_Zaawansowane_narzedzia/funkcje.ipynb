{
 "cells": [
  {
   "cell_type": "markdown",
   "id": "e680e5df-f027-40c4-aef4-4094f88a2715",
   "metadata": {},
   "source": [
    "# Funkcja"
   ]
  },
  {
   "cell_type": "code",
   "execution_count": 4,
   "id": "a44f4453-5457-453e-b712-c46302045f5c",
   "metadata": {},
   "outputs": [],
   "source": [
    "def add(a,b):\n",
    "    return a+b"
   ]
  },
  {
   "cell_type": "markdown",
   "id": "d9cb81d0-5cb3-4c2f-a348-2047fff532d5",
   "metadata": {},
   "source": [
    "### wywolanie"
   ]
  },
  {
   "cell_type": "code",
   "execution_count": 5,
   "id": "12adbf96-afb4-416a-9b2f-4428e4fa97b8",
   "metadata": {},
   "outputs": [
    {
     "data": {
      "text/plain": [
       "15"
      ]
     },
     "execution_count": 5,
     "metadata": {},
     "output_type": "execute_result"
    }
   ],
   "source": [
    "add(7,8)"
   ]
  },
  {
   "cell_type": "code",
   "execution_count": null,
   "id": "894d5546-24f3-49f1-b945-1adae2a1e550",
   "metadata": {},
   "outputs": [],
   "source": []
  }
 ],
 "metadata": {
  "kernelspec": {
   "display_name": "Python 3 (ipykernel)",
   "language": "python",
   "name": "python3"
  },
  "language_info": {
   "codemirror_mode": {
    "name": "ipython",
    "version": 3
   },
   "file_extension": ".py",
   "mimetype": "text/x-python",
   "name": "python",
   "nbconvert_exporter": "python",
   "pygments_lexer": "ipython3",
   "version": "3.13.5"
  }
 },
 "nbformat": 4,
 "nbformat_minor": 5
}
