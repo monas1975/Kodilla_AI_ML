{
  "cells": [
    {
      "cell_type": "markdown",
      "id": "9b08cb11",
      "metadata": {
        "id": "9b08cb11"
      },
      "source": [
        "## zad_18_2"
      ]
    },
    {
      "cell_type": "markdown",
      "id": "9d7850b7",
      "metadata": {
        "id": "9d7850b7"
      },
      "source": [
        "Pierwszym krokiem będzie zaimplementowanie sieci neuronowej na używanym wcześniej zestawie Fashion-Mnist tak, aby uzyskać wynik na danych testowych rzędu accuracy > 0.94 (albo jak najbardziej zbliżony), używając poniższego podziału:\n",
        "\n",
        "X_train, X_test, y_train, y_test = \\\n",
        "    train_test_split(images, labels, test_size=0.1, random_state=10, stratify=labels)\n",
        "    \n",
        "Drugim krokiem będzie zapisanie i dostarczenie modelu oraz napisanie interfejsu, który przyjmuje wartość wejściową oraz zwraca wartość przewidzianą przez nasz model wraz z wyrysowanym obrazem wejściowym (aby można było zweryfikować wizualnie, czy działa).\n",
        "\n",
        "W kursie nie mówiliśmy jak tego dokonać, choć zapisywanie modeli jest opisane na stronie TensorFlow. Mentorzy z chęcią pomogą, lecz zachęcamy do odkrycia, jak to zrobić samemu.\n",
        "\n",
        "Trzecim krokiem będzie podbicie naszego wyniku do około 0.97 poprzez użycie technik augumentacji, czyli tworzenia nowy danych na bazie danych już istniejących. Jest to przydatna technika, o którą pytanie pojawia się podczas rozmów o pracę :)\n",
        "\n",
        "Będzie to relatywnie trudne, gdyż posiadamy mało danych treningowych, więc należy zrobić mały \"research\" w poszukiwaniu informacji, jak takie dane sobie wygenerować.\n",
        "\n",
        "Polecamy szczególnie:\n",
        "\n",
        "Albumentation library\n",
        "Open CV library\n",
        "Ten kurs ma pokazywać, jak w rzeczywistości pracuje się z TensorFlow, a realia są takie, że bardzo często większość pracy to odkrywanie nowych rzeczy. Dlatego podajemy tylko linki do bibliotek – jak należy ich użyć, trzeba wywnioskować samemu :)"
      ]
    },
    {
      "cell_type": "markdown",
      "id": "2de4b0ea",
      "metadata": {
        "id": "2de4b0ea"
      },
      "source": [
        "### import"
      ]
    },
    {
      "cell_type": "code",
      "execution_count": 1,
      "id": "13c1ebf2",
      "metadata": {
        "id": "13c1ebf2"
      },
      "outputs": [],
      "source": [
        "import numpy as np\n",
        "import matplotlib.pyplot as plt\n",
        "import tensorflow as tf\n",
        "\n",
        "tf.config.run_functions_eagerly(True)\n",
        "from tensorflow.keras import layers, models\n",
        "from tensorflow.keras.models import load_model\n",
        "from sklearn.model_selection import train_test_split\n",
        "import albumentations as A\n",
        "import pandas as pd\n",
        "from tensorflow.keras.callbacks import EarlyStopping\n",
        "from tensorflow.keras.models import Sequential\n",
        "from tensorflow.keras.layers import Conv2D, MaxPooling2D, Flatten, Dense, Dropout, BatchNormalization\n"
      ]
    },
    {
      "cell_type": "markdown",
      "id": "d006bba8",
      "metadata": {
        "id": "d006bba8"
      },
      "source": [
        "Pierwszym krokiem będzie zaimplementowanie sieci neuronowej na używanym wcześniej zestawie Fashion-Mnist tak, aby uzyskać wynik na danych testowych rzędu accuracy > 0.94 (albo jak najbardziej zbliżony), używając poniższego podziału:\n",
        "\n",
        "X_train, X_test, y_train, y_test = \\\n",
        "    train_test_split(images, labels, test_size=0.1, random_state=10, stratify=labels)"
      ]
    },
    {
      "cell_type": "code",
      "execution_count": 2,
      "id": "178f5661",
      "metadata": {
        "id": "178f5661"
      },
      "outputs": [],
      "source": [
        "# wczytanie danych\n",
        "train, test = tf.keras.datasets.fashion_mnist.load_data()"
      ]
    },
    {
      "cell_type": "code",
      "execution_count": 3,
      "id": "a56d7222",
      "metadata": {
        "id": "a56d7222"
      },
      "outputs": [],
      "source": [
        "# wydobycie obrazow oraz etykiet\n",
        "images, labels = train"
      ]
    },
    {
      "cell_type": "code",
      "execution_count": 4,
      "id": "2cd21ef3",
      "metadata": {
        "id": "2cd21ef3"
      },
      "outputs": [],
      "source": [
        "# normalizacja wartości pikseli (maks. wartość\n",
        "# wynosi 255.0, czyli aby znormalizować nasze dane,\n",
        "# musimy podzielić każdy piksel przez maks. wartość)\n",
        "images = images/255.0"
      ]
    },
    {
      "cell_type": "code",
      "execution_count": 5,
      "id": "f6371bea",
      "metadata": {
        "id": "f6371bea"
      },
      "outputs": [],
      "source": [
        "# zapisujemy dane jako int\n",
        "labels = labels.astype(np.int32)"
      ]
    },
    {
      "cell_type": "code",
      "execution_count": 6,
      "id": "6f51b507",
      "metadata": {
        "id": "6f51b507"
      },
      "outputs": [],
      "source": [
        "\n",
        "# podzial na częsci treningowa i testowa\n",
        "X_train, X_test, y_train, y_test = train_test_split(images, labels, test_size=0.1, random_state=10, stratify=labels)"
      ]
    },
    {
      "cell_type": "code",
      "execution_count": 7,
      "id": "cc7f6682",
      "metadata": {
        "id": "cc7f6682"
      },
      "outputs": [],
      "source": [
        "# stworzenie zbioru typu Dataset z naszej listy\n",
        "train_ds = tf.data.Dataset.from_tensor_slices((X_train, y_train))\n",
        "\n",
        "# ustawienie batch_size na 32 oraz przetasowanie na bazie 1000 próbek\n",
        "train_ds = train_ds.shuffle(5000).batch(32)"
      ]
    },
    {
      "cell_type": "markdown",
      "id": "10ad551f",
      "metadata": {
        "id": "10ad551f"
      },
      "source": [
        "#### tworzenie modelu"
      ]
    },
    {
      "cell_type": "code",
      "execution_count": 10,
      "id": "3f2bf514",
      "metadata": {
        "colab": {
          "base_uri": "https://localhost:8080/"
        },
        "id": "3f2bf514",
        "outputId": "7d5be4e1-9e04-4639-9cd1-78e9ac580c7f"
      },
      "outputs": [],
      "source": [
        "# Budowa modelu CNN\n",
        "\n",
        "model = Sequential()\n",
        "model.add(Conv2D(filters=32, kernel_size=(3, 3), activation='relu', strides=1, padding='same',\n",
        "                 data_format='channels_last', input_shape=(28,28,1)))\n",
        "model.add(BatchNormalization())\n",
        "\n",
        "model.add(Conv2D(filters=32, kernel_size=(3, 3), activation='relu', strides=1, padding='same',\n",
        "                 data_format='channels_last'))\n",
        "model.add(BatchNormalization())\n",
        "model.add(Dropout(0.25))\n",
        "\n",
        "model.add(Conv2D(filters=64, kernel_size=(3, 3), activation='relu', strides=1, padding='same',\n",
        "                 data_format='channels_last'))\n",
        "model.add(MaxPooling2D(pool_size=(2, 2)))\n",
        "model.add(Dropout(0.25))\n",
        "\n",
        "\n",
        "model.add(Conv2D(filters=128, kernel_size=(3, 3), activation='relu', strides=1, padding='same',\n",
        "                 data_format='channels_last'))\n",
        "model.add(BatchNormalization())\n",
        "model.add(Dropout(0.25))\n",
        "\n",
        "model.add(Flatten())\n",
        "model.add(Dense(512, activation='relu'))\n",
        "model.add(BatchNormalization())\n",
        "model.add(Dropout(0.5))\n",
        "model.add(Dense(128, activation='relu'))\n",
        "model.add(BatchNormalization())\n",
        "model.add(Dropout(0.5))\n",
        "model.add(Dense(10, activation='softmax'))\n",
        "\n",
        "\n",
        "\n",
        "\n",
        "\n",
        "\n",
        "\n"
      ]
    },
    {
      "cell_type": "code",
      "execution_count": 11,
      "id": "108cd26b",
      "metadata": {
        "colab": {
          "base_uri": "https://localhost:8080/",
          "height": 817
        },
        "id": "108cd26b",
        "outputId": "7c98ea18-eb53-4a81-c5e1-f51e930ff3cc"
      },
      "outputs": [
        {
          "data": {
            "text/html": [
              "<pre style=\"white-space:pre;overflow-x:auto;line-height:normal;font-family:Menlo,'DejaVu Sans Mono',consolas,'Courier New',monospace\"><span style=\"font-weight: bold\">Model: \"sequential_1\"</span>\n",
              "</pre>\n"
            ],
            "text/plain": [
              "\u001b[1mModel: \"sequential_1\"\u001b[0m\n"
            ]
          },
          "metadata": {},
          "output_type": "display_data"
        },
        {
          "data": {
            "text/html": [
              "<pre style=\"white-space:pre;overflow-x:auto;line-height:normal;font-family:Menlo,'DejaVu Sans Mono',consolas,'Courier New',monospace\">┏━━━━━━━━━━━━━━━━━━━━━━━━━━━━━━━━━┳━━━━━━━━━━━━━━━━━━━━━━━━┳━━━━━━━━━━━━━━━┓\n",
              "┃<span style=\"font-weight: bold\"> Layer (type)                    </span>┃<span style=\"font-weight: bold\"> Output Shape           </span>┃<span style=\"font-weight: bold\">       Param # </span>┃\n",
              "┡━━━━━━━━━━━━━━━━━━━━━━━━━━━━━━━━━╇━━━━━━━━━━━━━━━━━━━━━━━━╇━━━━━━━━━━━━━━━┩\n",
              "│ conv2d_4 (<span style=\"color: #0087ff; text-decoration-color: #0087ff\">Conv2D</span>)               │ (<span style=\"color: #00d7ff; text-decoration-color: #00d7ff\">None</span>, <span style=\"color: #00af00; text-decoration-color: #00af00\">28</span>, <span style=\"color: #00af00; text-decoration-color: #00af00\">28</span>, <span style=\"color: #00af00; text-decoration-color: #00af00\">32</span>)     │           <span style=\"color: #00af00; text-decoration-color: #00af00\">320</span> │\n",
              "├─────────────────────────────────┼────────────────────────┼───────────────┤\n",
              "│ batch_normalization_5           │ (<span style=\"color: #00d7ff; text-decoration-color: #00d7ff\">None</span>, <span style=\"color: #00af00; text-decoration-color: #00af00\">28</span>, <span style=\"color: #00af00; text-decoration-color: #00af00\">28</span>, <span style=\"color: #00af00; text-decoration-color: #00af00\">32</span>)     │           <span style=\"color: #00af00; text-decoration-color: #00af00\">128</span> │\n",
              "│ (<span style=\"color: #0087ff; text-decoration-color: #0087ff\">BatchNormalization</span>)            │                        │               │\n",
              "├─────────────────────────────────┼────────────────────────┼───────────────┤\n",
              "│ conv2d_5 (<span style=\"color: #0087ff; text-decoration-color: #0087ff\">Conv2D</span>)               │ (<span style=\"color: #00d7ff; text-decoration-color: #00d7ff\">None</span>, <span style=\"color: #00af00; text-decoration-color: #00af00\">28</span>, <span style=\"color: #00af00; text-decoration-color: #00af00\">28</span>, <span style=\"color: #00af00; text-decoration-color: #00af00\">32</span>)     │         <span style=\"color: #00af00; text-decoration-color: #00af00\">9,248</span> │\n",
              "├─────────────────────────────────┼────────────────────────┼───────────────┤\n",
              "│ batch_normalization_6           │ (<span style=\"color: #00d7ff; text-decoration-color: #00d7ff\">None</span>, <span style=\"color: #00af00; text-decoration-color: #00af00\">28</span>, <span style=\"color: #00af00; text-decoration-color: #00af00\">28</span>, <span style=\"color: #00af00; text-decoration-color: #00af00\">32</span>)     │           <span style=\"color: #00af00; text-decoration-color: #00af00\">128</span> │\n",
              "│ (<span style=\"color: #0087ff; text-decoration-color: #0087ff\">BatchNormalization</span>)            │                        │               │\n",
              "├─────────────────────────────────┼────────────────────────┼───────────────┤\n",
              "│ dropout_5 (<span style=\"color: #0087ff; text-decoration-color: #0087ff\">Dropout</span>)             │ (<span style=\"color: #00d7ff; text-decoration-color: #00d7ff\">None</span>, <span style=\"color: #00af00; text-decoration-color: #00af00\">28</span>, <span style=\"color: #00af00; text-decoration-color: #00af00\">28</span>, <span style=\"color: #00af00; text-decoration-color: #00af00\">32</span>)     │             <span style=\"color: #00af00; text-decoration-color: #00af00\">0</span> │\n",
              "├─────────────────────────────────┼────────────────────────┼───────────────┤\n",
              "│ conv2d_6 (<span style=\"color: #0087ff; text-decoration-color: #0087ff\">Conv2D</span>)               │ (<span style=\"color: #00d7ff; text-decoration-color: #00d7ff\">None</span>, <span style=\"color: #00af00; text-decoration-color: #00af00\">28</span>, <span style=\"color: #00af00; text-decoration-color: #00af00\">28</span>, <span style=\"color: #00af00; text-decoration-color: #00af00\">64</span>)     │        <span style=\"color: #00af00; text-decoration-color: #00af00\">18,496</span> │\n",
              "├─────────────────────────────────┼────────────────────────┼───────────────┤\n",
              "│ max_pooling2d_1 (<span style=\"color: #0087ff; text-decoration-color: #0087ff\">MaxPooling2D</span>)  │ (<span style=\"color: #00d7ff; text-decoration-color: #00d7ff\">None</span>, <span style=\"color: #00af00; text-decoration-color: #00af00\">14</span>, <span style=\"color: #00af00; text-decoration-color: #00af00\">14</span>, <span style=\"color: #00af00; text-decoration-color: #00af00\">64</span>)     │             <span style=\"color: #00af00; text-decoration-color: #00af00\">0</span> │\n",
              "├─────────────────────────────────┼────────────────────────┼───────────────┤\n",
              "│ dropout_6 (<span style=\"color: #0087ff; text-decoration-color: #0087ff\">Dropout</span>)             │ (<span style=\"color: #00d7ff; text-decoration-color: #00d7ff\">None</span>, <span style=\"color: #00af00; text-decoration-color: #00af00\">14</span>, <span style=\"color: #00af00; text-decoration-color: #00af00\">14</span>, <span style=\"color: #00af00; text-decoration-color: #00af00\">64</span>)     │             <span style=\"color: #00af00; text-decoration-color: #00af00\">0</span> │\n",
              "├─────────────────────────────────┼────────────────────────┼───────────────┤\n",
              "│ conv2d_7 (<span style=\"color: #0087ff; text-decoration-color: #0087ff\">Conv2D</span>)               │ (<span style=\"color: #00d7ff; text-decoration-color: #00d7ff\">None</span>, <span style=\"color: #00af00; text-decoration-color: #00af00\">14</span>, <span style=\"color: #00af00; text-decoration-color: #00af00\">14</span>, <span style=\"color: #00af00; text-decoration-color: #00af00\">128</span>)    │        <span style=\"color: #00af00; text-decoration-color: #00af00\">73,856</span> │\n",
              "├─────────────────────────────────┼────────────────────────┼───────────────┤\n",
              "│ batch_normalization_7           │ (<span style=\"color: #00d7ff; text-decoration-color: #00d7ff\">None</span>, <span style=\"color: #00af00; text-decoration-color: #00af00\">14</span>, <span style=\"color: #00af00; text-decoration-color: #00af00\">14</span>, <span style=\"color: #00af00; text-decoration-color: #00af00\">128</span>)    │           <span style=\"color: #00af00; text-decoration-color: #00af00\">512</span> │\n",
              "│ (<span style=\"color: #0087ff; text-decoration-color: #0087ff\">BatchNormalization</span>)            │                        │               │\n",
              "├─────────────────────────────────┼────────────────────────┼───────────────┤\n",
              "│ dropout_7 (<span style=\"color: #0087ff; text-decoration-color: #0087ff\">Dropout</span>)             │ (<span style=\"color: #00d7ff; text-decoration-color: #00d7ff\">None</span>, <span style=\"color: #00af00; text-decoration-color: #00af00\">14</span>, <span style=\"color: #00af00; text-decoration-color: #00af00\">14</span>, <span style=\"color: #00af00; text-decoration-color: #00af00\">128</span>)    │             <span style=\"color: #00af00; text-decoration-color: #00af00\">0</span> │\n",
              "├─────────────────────────────────┼────────────────────────┼───────────────┤\n",
              "│ flatten_1 (<span style=\"color: #0087ff; text-decoration-color: #0087ff\">Flatten</span>)             │ (<span style=\"color: #00d7ff; text-decoration-color: #00d7ff\">None</span>, <span style=\"color: #00af00; text-decoration-color: #00af00\">25088</span>)          │             <span style=\"color: #00af00; text-decoration-color: #00af00\">0</span> │\n",
              "├─────────────────────────────────┼────────────────────────┼───────────────┤\n",
              "│ dense_3 (<span style=\"color: #0087ff; text-decoration-color: #0087ff\">Dense</span>)                 │ (<span style=\"color: #00d7ff; text-decoration-color: #00d7ff\">None</span>, <span style=\"color: #00af00; text-decoration-color: #00af00\">512</span>)            │    <span style=\"color: #00af00; text-decoration-color: #00af00\">12,845,568</span> │\n",
              "├─────────────────────────────────┼────────────────────────┼───────────────┤\n",
              "│ batch_normalization_8           │ (<span style=\"color: #00d7ff; text-decoration-color: #00d7ff\">None</span>, <span style=\"color: #00af00; text-decoration-color: #00af00\">512</span>)            │         <span style=\"color: #00af00; text-decoration-color: #00af00\">2,048</span> │\n",
              "│ (<span style=\"color: #0087ff; text-decoration-color: #0087ff\">BatchNormalization</span>)            │                        │               │\n",
              "├─────────────────────────────────┼────────────────────────┼───────────────┤\n",
              "│ dropout_8 (<span style=\"color: #0087ff; text-decoration-color: #0087ff\">Dropout</span>)             │ (<span style=\"color: #00d7ff; text-decoration-color: #00d7ff\">None</span>, <span style=\"color: #00af00; text-decoration-color: #00af00\">512</span>)            │             <span style=\"color: #00af00; text-decoration-color: #00af00\">0</span> │\n",
              "├─────────────────────────────────┼────────────────────────┼───────────────┤\n",
              "│ dense_4 (<span style=\"color: #0087ff; text-decoration-color: #0087ff\">Dense</span>)                 │ (<span style=\"color: #00d7ff; text-decoration-color: #00d7ff\">None</span>, <span style=\"color: #00af00; text-decoration-color: #00af00\">128</span>)            │        <span style=\"color: #00af00; text-decoration-color: #00af00\">65,664</span> │\n",
              "├─────────────────────────────────┼────────────────────────┼───────────────┤\n",
              "│ batch_normalization_9           │ (<span style=\"color: #00d7ff; text-decoration-color: #00d7ff\">None</span>, <span style=\"color: #00af00; text-decoration-color: #00af00\">128</span>)            │           <span style=\"color: #00af00; text-decoration-color: #00af00\">512</span> │\n",
              "│ (<span style=\"color: #0087ff; text-decoration-color: #0087ff\">BatchNormalization</span>)            │                        │               │\n",
              "├─────────────────────────────────┼────────────────────────┼───────────────┤\n",
              "│ dropout_9 (<span style=\"color: #0087ff; text-decoration-color: #0087ff\">Dropout</span>)             │ (<span style=\"color: #00d7ff; text-decoration-color: #00d7ff\">None</span>, <span style=\"color: #00af00; text-decoration-color: #00af00\">128</span>)            │             <span style=\"color: #00af00; text-decoration-color: #00af00\">0</span> │\n",
              "├─────────────────────────────────┼────────────────────────┼───────────────┤\n",
              "│ dense_5 (<span style=\"color: #0087ff; text-decoration-color: #0087ff\">Dense</span>)                 │ (<span style=\"color: #00d7ff; text-decoration-color: #00d7ff\">None</span>, <span style=\"color: #00af00; text-decoration-color: #00af00\">10</span>)             │         <span style=\"color: #00af00; text-decoration-color: #00af00\">1,290</span> │\n",
              "└─────────────────────────────────┴────────────────────────┴───────────────┘\n",
              "</pre>\n"
            ],
            "text/plain": [
              "┏━━━━━━━━━━━━━━━━━━━━━━━━━━━━━━━━━┳━━━━━━━━━━━━━━━━━━━━━━━━┳━━━━━━━━━━━━━━━┓\n",
              "┃\u001b[1m \u001b[0m\u001b[1mLayer (type)                   \u001b[0m\u001b[1m \u001b[0m┃\u001b[1m \u001b[0m\u001b[1mOutput Shape          \u001b[0m\u001b[1m \u001b[0m┃\u001b[1m \u001b[0m\u001b[1m      Param #\u001b[0m\u001b[1m \u001b[0m┃\n",
              "┡━━━━━━━━━━━━━━━━━━━━━━━━━━━━━━━━━╇━━━━━━━━━━━━━━━━━━━━━━━━╇━━━━━━━━━━━━━━━┩\n",
              "│ conv2d_4 (\u001b[38;5;33mConv2D\u001b[0m)               │ (\u001b[38;5;45mNone\u001b[0m, \u001b[38;5;34m28\u001b[0m, \u001b[38;5;34m28\u001b[0m, \u001b[38;5;34m32\u001b[0m)     │           \u001b[38;5;34m320\u001b[0m │\n",
              "├─────────────────────────────────┼────────────────────────┼───────────────┤\n",
              "│ batch_normalization_5           │ (\u001b[38;5;45mNone\u001b[0m, \u001b[38;5;34m28\u001b[0m, \u001b[38;5;34m28\u001b[0m, \u001b[38;5;34m32\u001b[0m)     │           \u001b[38;5;34m128\u001b[0m │\n",
              "│ (\u001b[38;5;33mBatchNormalization\u001b[0m)            │                        │               │\n",
              "├─────────────────────────────────┼────────────────────────┼───────────────┤\n",
              "│ conv2d_5 (\u001b[38;5;33mConv2D\u001b[0m)               │ (\u001b[38;5;45mNone\u001b[0m, \u001b[38;5;34m28\u001b[0m, \u001b[38;5;34m28\u001b[0m, \u001b[38;5;34m32\u001b[0m)     │         \u001b[38;5;34m9,248\u001b[0m │\n",
              "├─────────────────────────────────┼────────────────────────┼───────────────┤\n",
              "│ batch_normalization_6           │ (\u001b[38;5;45mNone\u001b[0m, \u001b[38;5;34m28\u001b[0m, \u001b[38;5;34m28\u001b[0m, \u001b[38;5;34m32\u001b[0m)     │           \u001b[38;5;34m128\u001b[0m │\n",
              "│ (\u001b[38;5;33mBatchNormalization\u001b[0m)            │                        │               │\n",
              "├─────────────────────────────────┼────────────────────────┼───────────────┤\n",
              "│ dropout_5 (\u001b[38;5;33mDropout\u001b[0m)             │ (\u001b[38;5;45mNone\u001b[0m, \u001b[38;5;34m28\u001b[0m, \u001b[38;5;34m28\u001b[0m, \u001b[38;5;34m32\u001b[0m)     │             \u001b[38;5;34m0\u001b[0m │\n",
              "├─────────────────────────────────┼────────────────────────┼───────────────┤\n",
              "│ conv2d_6 (\u001b[38;5;33mConv2D\u001b[0m)               │ (\u001b[38;5;45mNone\u001b[0m, \u001b[38;5;34m28\u001b[0m, \u001b[38;5;34m28\u001b[0m, \u001b[38;5;34m64\u001b[0m)     │        \u001b[38;5;34m18,496\u001b[0m │\n",
              "├─────────────────────────────────┼────────────────────────┼───────────────┤\n",
              "│ max_pooling2d_1 (\u001b[38;5;33mMaxPooling2D\u001b[0m)  │ (\u001b[38;5;45mNone\u001b[0m, \u001b[38;5;34m14\u001b[0m, \u001b[38;5;34m14\u001b[0m, \u001b[38;5;34m64\u001b[0m)     │             \u001b[38;5;34m0\u001b[0m │\n",
              "├─────────────────────────────────┼────────────────────────┼───────────────┤\n",
              "│ dropout_6 (\u001b[38;5;33mDropout\u001b[0m)             │ (\u001b[38;5;45mNone\u001b[0m, \u001b[38;5;34m14\u001b[0m, \u001b[38;5;34m14\u001b[0m, \u001b[38;5;34m64\u001b[0m)     │             \u001b[38;5;34m0\u001b[0m │\n",
              "├─────────────────────────────────┼────────────────────────┼───────────────┤\n",
              "│ conv2d_7 (\u001b[38;5;33mConv2D\u001b[0m)               │ (\u001b[38;5;45mNone\u001b[0m, \u001b[38;5;34m14\u001b[0m, \u001b[38;5;34m14\u001b[0m, \u001b[38;5;34m128\u001b[0m)    │        \u001b[38;5;34m73,856\u001b[0m │\n",
              "├─────────────────────────────────┼────────────────────────┼───────────────┤\n",
              "│ batch_normalization_7           │ (\u001b[38;5;45mNone\u001b[0m, \u001b[38;5;34m14\u001b[0m, \u001b[38;5;34m14\u001b[0m, \u001b[38;5;34m128\u001b[0m)    │           \u001b[38;5;34m512\u001b[0m │\n",
              "│ (\u001b[38;5;33mBatchNormalization\u001b[0m)            │                        │               │\n",
              "├─────────────────────────────────┼────────────────────────┼───────────────┤\n",
              "│ dropout_7 (\u001b[38;5;33mDropout\u001b[0m)             │ (\u001b[38;5;45mNone\u001b[0m, \u001b[38;5;34m14\u001b[0m, \u001b[38;5;34m14\u001b[0m, \u001b[38;5;34m128\u001b[0m)    │             \u001b[38;5;34m0\u001b[0m │\n",
              "├─────────────────────────────────┼────────────────────────┼───────────────┤\n",
              "│ flatten_1 (\u001b[38;5;33mFlatten\u001b[0m)             │ (\u001b[38;5;45mNone\u001b[0m, \u001b[38;5;34m25088\u001b[0m)          │             \u001b[38;5;34m0\u001b[0m │\n",
              "├─────────────────────────────────┼────────────────────────┼───────────────┤\n",
              "│ dense_3 (\u001b[38;5;33mDense\u001b[0m)                 │ (\u001b[38;5;45mNone\u001b[0m, \u001b[38;5;34m512\u001b[0m)            │    \u001b[38;5;34m12,845,568\u001b[0m │\n",
              "├─────────────────────────────────┼────────────────────────┼───────────────┤\n",
              "│ batch_normalization_8           │ (\u001b[38;5;45mNone\u001b[0m, \u001b[38;5;34m512\u001b[0m)            │         \u001b[38;5;34m2,048\u001b[0m │\n",
              "│ (\u001b[38;5;33mBatchNormalization\u001b[0m)            │                        │               │\n",
              "├─────────────────────────────────┼────────────────────────┼───────────────┤\n",
              "│ dropout_8 (\u001b[38;5;33mDropout\u001b[0m)             │ (\u001b[38;5;45mNone\u001b[0m, \u001b[38;5;34m512\u001b[0m)            │             \u001b[38;5;34m0\u001b[0m │\n",
              "├─────────────────────────────────┼────────────────────────┼───────────────┤\n",
              "│ dense_4 (\u001b[38;5;33mDense\u001b[0m)                 │ (\u001b[38;5;45mNone\u001b[0m, \u001b[38;5;34m128\u001b[0m)            │        \u001b[38;5;34m65,664\u001b[0m │\n",
              "├─────────────────────────────────┼────────────────────────┼───────────────┤\n",
              "│ batch_normalization_9           │ (\u001b[38;5;45mNone\u001b[0m, \u001b[38;5;34m128\u001b[0m)            │           \u001b[38;5;34m512\u001b[0m │\n",
              "│ (\u001b[38;5;33mBatchNormalization\u001b[0m)            │                        │               │\n",
              "├─────────────────────────────────┼────────────────────────┼───────────────┤\n",
              "│ dropout_9 (\u001b[38;5;33mDropout\u001b[0m)             │ (\u001b[38;5;45mNone\u001b[0m, \u001b[38;5;34m128\u001b[0m)            │             \u001b[38;5;34m0\u001b[0m │\n",
              "├─────────────────────────────────┼────────────────────────┼───────────────┤\n",
              "│ dense_5 (\u001b[38;5;33mDense\u001b[0m)                 │ (\u001b[38;5;45mNone\u001b[0m, \u001b[38;5;34m10\u001b[0m)             │         \u001b[38;5;34m1,290\u001b[0m │\n",
              "└─────────────────────────────────┴────────────────────────┴───────────────┘\n"
            ]
          },
          "metadata": {},
          "output_type": "display_data"
        },
        {
          "data": {
            "text/html": [
              "<pre style=\"white-space:pre;overflow-x:auto;line-height:normal;font-family:Menlo,'DejaVu Sans Mono',consolas,'Courier New',monospace\"><span style=\"font-weight: bold\"> Total params: </span><span style=\"color: #00af00; text-decoration-color: #00af00\">13,017,770</span> (49.66 MB)\n",
              "</pre>\n"
            ],
            "text/plain": [
              "\u001b[1m Total params: \u001b[0m\u001b[38;5;34m13,017,770\u001b[0m (49.66 MB)\n"
            ]
          },
          "metadata": {},
          "output_type": "display_data"
        },
        {
          "data": {
            "text/html": [
              "<pre style=\"white-space:pre;overflow-x:auto;line-height:normal;font-family:Menlo,'DejaVu Sans Mono',consolas,'Courier New',monospace\"><span style=\"font-weight: bold\"> Trainable params: </span><span style=\"color: #00af00; text-decoration-color: #00af00\">13,016,106</span> (49.65 MB)\n",
              "</pre>\n"
            ],
            "text/plain": [
              "\u001b[1m Trainable params: \u001b[0m\u001b[38;5;34m13,016,106\u001b[0m (49.65 MB)\n"
            ]
          },
          "metadata": {},
          "output_type": "display_data"
        },
        {
          "data": {
            "text/html": [
              "<pre style=\"white-space:pre;overflow-x:auto;line-height:normal;font-family:Menlo,'DejaVu Sans Mono',consolas,'Courier New',monospace\"><span style=\"font-weight: bold\"> Non-trainable params: </span><span style=\"color: #00af00; text-decoration-color: #00af00\">1,664</span> (6.50 KB)\n",
              "</pre>\n"
            ],
            "text/plain": [
              "\u001b[1m Non-trainable params: \u001b[0m\u001b[38;5;34m1,664\u001b[0m (6.50 KB)\n"
            ]
          },
          "metadata": {},
          "output_type": "display_data"
        }
      ],
      "source": [
        "model.summary()"
      ]
    },
    {
      "cell_type": "markdown",
      "id": "5ccaccbe",
      "metadata": {
        "id": "5ccaccbe"
      },
      "source": [
        "#### kompilacja modelu"
      ]
    },
    {
      "cell_type": "code",
      "execution_count": 12,
      "id": "bba58340",
      "metadata": {
        "id": "bba58340"
      },
      "outputs": [],
      "source": [
        "model.compile(optimizer='adam', loss='sparse_categorical_crossentropy', metrics=['accuracy'])"
      ]
    },
    {
      "cell_type": "markdown",
      "id": "9960f181",
      "metadata": {
        "id": "9960f181"
      },
      "source": [
        "#### szkolenie"
      ]
    },
    {
      "cell_type": "code",
      "execution_count": 13,
      "id": "4e4c2d6b",
      "metadata": {
        "colab": {
          "background_save": true,
          "base_uri": "https://localhost:8080/"
        },
        "id": "4e4c2d6b",
        "outputId": "0b7ded3d-3719-4253-86d6-34e00c78a81c"
      },
      "outputs": [
        {
          "name": "stderr",
          "output_type": "stream",
          "text": [
            "c:\\Users\\monas\\AppData\\Local\\Programs\\Python\\Python311\\Lib\\site-packages\\tensorflow\\python\\data\\ops\\structured_function.py:258: UserWarning: Even though the `tf.config.experimental_run_functions_eagerly` option is set, this option does not apply to tf.data functions. To force eager execution of tf.data functions, please use `tf.data.experimental.enable_debug_mode()`.\n",
            "  warnings.warn(\n"
          ]
        },
        {
          "name": "stdout",
          "output_type": "stream",
          "text": [
            "Epoch 1/12\n",
            "760/760 - 576s - 758ms/step - accuracy: 0.8209 - loss: 0.5215 - val_accuracy: 0.8737 - val_loss: 0.3600\n",
            "Epoch 2/12\n",
            "760/760 - 585s - 770ms/step - accuracy: 0.8858 - loss: 0.3285 - val_accuracy: 0.9250 - val_loss: 0.2155\n",
            "Epoch 3/12\n",
            "760/760 - 596s - 784ms/step - accuracy: 0.9040 - loss: 0.2710 - val_accuracy: 0.9091 - val_loss: 0.2404\n",
            "Epoch 4/12\n",
            "760/760 - 595s - 783ms/step - accuracy: 0.9125 - loss: 0.2484 - val_accuracy: 0.9143 - val_loss: 0.2401\n",
            "Epoch 5/12\n",
            "760/760 - 585s - 770ms/step - accuracy: 0.9188 - loss: 0.2280 - val_accuracy: 0.9326 - val_loss: 0.1864\n",
            "Epoch 6/12\n",
            "760/760 - 566s - 745ms/step - accuracy: 0.9266 - loss: 0.2072 - val_accuracy: 0.9287 - val_loss: 0.1956\n",
            "Epoch 7/12\n",
            "760/760 - 612s - 805ms/step - accuracy: 0.9323 - loss: 0.1896 - val_accuracy: 0.9420 - val_loss: 0.1672\n",
            "Epoch 8/12\n",
            "760/760 - 557s - 733ms/step - accuracy: 0.9346 - loss: 0.1825 - val_accuracy: 0.9441 - val_loss: 0.1561\n",
            "Epoch 9/12\n",
            "760/760 - 559s - 736ms/step - accuracy: 0.9413 - loss: 0.1623 - val_accuracy: 0.9361 - val_loss: 0.1801\n",
            "Epoch 10/12\n",
            "760/760 - 561s - 738ms/step - accuracy: 0.9467 - loss: 0.1483 - val_accuracy: 0.9309 - val_loss: 0.2022\n",
            "Epoch 11/12\n",
            "760/760 - 559s - 736ms/step - accuracy: 0.9501 - loss: 0.1401 - val_accuracy: 0.9417 - val_loss: 0.1754\n",
            "Epoch 12/12\n",
            "760/760 - 557s - 733ms/step - accuracy: 0.9534 - loss: 0.1293 - val_accuracy: 0.9426 - val_loss: 0.1718\n"
          ]
        }
      ],
      "source": [
        "# Trenowanie modelu\n",
        "history = model.fit(X_train, y_train, epochs=12, batch_size=64,\n",
        "                    validation_split=0.1, verbose=2)"
      ]
    },
    {
      "cell_type": "code",
      "execution_count": 14,
      "id": "ab2458e4",
      "metadata": {
        "id": "ab2458e4"
      },
      "outputs": [
        {
          "data": {
            "image/png": "[encoded data removed]",
            "text/plain": [
              "<Figure size 800x500 with 1 Axes>"
            ]
          },
          "metadata": {},
          "output_type": "display_data"
        }
      ],
      "source": [
        "pd.DataFrame(history.history).plot(figsize=(8, 5))\n",
        "plt.grid(True)\n",
        "plt.gca().set_ylim(0, 1)\n",
        "plt.show()"
      ]
    },
    {
      "cell_type": "markdown",
      "id": "b4629851",
      "metadata": {
        "id": "b4629851"
      },
      "source": [
        "#### predykcja"
      ]
    },
    {
      "cell_type": "code",
      "execution_count": 15,
      "id": "737a4dd0",
      "metadata": {
        "id": "737a4dd0"
      },
      "outputs": [
        {
          "name": "stderr",
          "output_type": "stream",
          "text": [
            "c:\\Users\\monas\\AppData\\Local\\Programs\\Python\\Python311\\Lib\\site-packages\\tensorflow\\python\\data\\ops\\structured_function.py:258: UserWarning: Even though the `tf.config.experimental_run_functions_eagerly` option is set, this option does not apply to tf.data functions. To force eager execution of tf.data functions, please use `tf.data.experimental.enable_debug_mode()`.\n",
            "  warnings.warn(\n"
          ]
        },
        {
          "name": "stdout",
          "output_type": "stream",
          "text": [
            "\u001b[1m188/188\u001b[0m \u001b[32m━━━━━━━━━━━━━━━━━━━━\u001b[0m\u001b[37m\u001b[0m \u001b[1m17s\u001b[0m 90ms/step\n",
            "probs :  [1.2329384e-09 1.9555313e-07 6.8694885e-09 4.5923287e-09 1.7722779e-09\n",
            " 2.7153801e-05 2.0434150e-09 9.9995875e-01 1.2307020e-08 1.3841466e-05]\n",
            "klasa : 7\n",
            "rzeczywista klasa:  7\n"
          ]
        }
      ],
      "source": [
        "y_pred = model.predict(X_test)\n",
        "print(\"probs : \", y_pred[2])\n",
        "print(\"klasa :\", np.argmax(y_pred[2]))\n",
        "print(\"rzeczywista klasa: \", y_test[2])"
      ]
    },
    {
      "cell_type": "markdown",
      "id": "03e4e70f",
      "metadata": {
        "id": "03e4e70f"
      },
      "source": [
        "#### accurancy na zbiorze testowym"
      ]
    },
    {
      "cell_type": "code",
      "execution_count": 16,
      "id": "9ea1ff6e",
      "metadata": {
        "id": "9ea1ff6e"
      },
      "outputs": [
        {
          "name": "stdout",
          "output_type": "stream",
          "text": [
            "Accuracy na zbiorze testowym: 0.9323\n",
            "Straty na zbiorze testowym: 0.1950\n"
          ]
        }
      ],
      "source": [
        "loss, acc = model.evaluate(X_test, y_test, verbose=0)\n",
        "print(f\"Accuracy na zbiorze testowym: {acc:.4f}\")\n",
        "print(f\"Straty na zbiorze testowym: {loss:.4f}\")"
      ]
    },
    {
      "cell_type": "markdown",
      "id": "e874e089",
      "metadata": {
        "id": "e874e089"
      },
      "source": [
        "Drugim krokiem będzie zapisanie i dostarczenie modelu oraz napisanie interfejsu, który przyjmuje wartość wejściową oraz zwraca wartość przewidzianą przez nasz model wraz z wyrysowanym obrazem wejściowym (aby można było zweryfikować wizualnie, czy działa).\n",
        "\n",
        "W kursie nie mówiliśmy jak tego dokonać, choć zapisywanie modeli jest opisane na stronie TensorFlow. Mentorzy z chęcią pomogą, lecz zachęcamy do odkrycia, jak to zrobić samemu."
      ]
    },
    {
      "cell_type": "code",
      "execution_count": 18,
      "id": "d6b3edd4",
      "metadata": {
        "id": "d6b3edd4"
      },
      "outputs": [
        {
          "name": "stderr",
          "output_type": "stream",
          "text": [
            "WARNING:absl:You are saving your model as an HDF5 file via `model.save()` or `keras.saving.save_model(model)`. This file format is considered legacy. We recommend using instead the native Keras format, e.g. `model.save('my_model.keras')` or `keras.saving.save_model(model, 'my_model.keras')`. \n",
            "WARNING:absl:Compiled the loaded model, but the compiled metrics have yet to be built. `model.compile_metrics` will be empty until you train or evaluate the model.\n"
          ]
        }
      ],
      "source": [
        "# zapisanie wytrenowanego modelu\n",
        "model.save(\"fashion_mnist_model.h5\")\n",
        "\n",
        "# wczytanie modelu w innym miejscu\n",
        "from tensorflow.keras.models import load_model\n",
        "loaded_model = load_model(\"fashion_mnist_model.h5\")"
      ]
    },
    {
      "cell_type": "code",
      "execution_count": 19,
      "id": "7d68a6b6",
      "metadata": {
        "id": "7d68a6b6"
      },
      "outputs": [
        {
          "name": "stderr",
          "output_type": "stream",
          "text": [
            "WARNING:absl:Compiled the loaded model, but the compiled metrics have yet to be built. `model.compile_metrics` will be empty until you train or evaluate the model.\n"
          ]
        }
      ],
      "source": [
        "# Wczytaj model\n",
        "model = load_model(\"fashion_mnist_model.h5\")\n",
        "\n",
        "# Nazwy klas w Fashion-MNIST\n",
        "class_names = [\n",
        "    \"T-shirt/top\", \"Trouser\", \"Pullover\", \"Dress\", \"Coat\",\n",
        "    \"Sandal\", \"Shirt\", \"Sneaker\", \"Bag\", \"Ankle boot\"\n",
        "]\n",
        "\n",
        "def predict_and_show(image, model=model):\n",
        "    \"\"\"\n",
        "    image: pojedynczy obrazek 28x28 (numpy array)\n",
        "    model: załadowany model Keras\n",
        "    \"\"\"\n",
        "    # upewnij się, że ma odpowiedni kształt i zakres [0,1]\n",
        "    img = image.reshape(1, 28, 28).astype(\"float32\") / 255.0\n",
        "\n",
        "    # predykcja\n",
        "    preds = model.predict(img)\n",
        "    predicted_class = np.argmax(preds, axis=1)[0]\n",
        "    confidence = np.max(preds)\n",
        "\n",
        "    # pokazanie obrazka\n",
        "    plt.imshow(image, cmap=\"gray\")\n",
        "    plt.title(f\"Predicted: {class_names[predicted_class]} ({confidence:.2f})\")\n",
        "    plt.axis(\"off\")\n",
        "    plt.show()\n",
        "\n",
        "    return predicted_class, confidence"
      ]
    },
    {
      "cell_type": "code",
      "execution_count": 20,
      "id": "3e6fa942",
      "metadata": {
        "id": "3e6fa942"
      },
      "outputs": [
        {
          "name": "stdout",
          "output_type": "stream",
          "text": [
            "\u001b[1m1/1\u001b[0m \u001b[32m━━━━━━━━━━━━━━━━━━━━\u001b[0m\u001b[37m\u001b[0m \u001b[1m0s\u001b[0m 158ms/step\n"
          ]
        },
        {
          "data": {
            "image/png": "[encoded data removed]",
            "text/plain": [
              "<Figure size 640x480 with 1 Axes>"
            ]
          },
          "metadata": {},
          "output_type": "display_data"
        },
        {
          "name": "stdout",
          "output_type": "stream",
          "text": [
            "Prawdziwa klasa: Bag\n"
          ]
        }
      ],
      "source": [
        "# test interfejsu\n",
        "\n",
        "# Załaduj dane Fashion-MNIST\n",
        "(_, _), (X_test, y_test) = tf.keras.datasets.fashion_mnist.load_data()\n",
        "\n",
        "# Przykład: weź pierwszy obrazek ze zbioru testowego\n",
        "pred_class, conf = predict_and_show(X_test[30], model)\n",
        "print(f\"Prawdziwa klasa: {class_names[y_test[30]]}\")"
      ]
    },
    {
      "cell_type": "markdown",
      "id": "edc8864d",
      "metadata": {
        "id": "edc8864d"
      },
      "source": [
        "Trzecim krokiem będzie podbicie naszego wyniku do około 0.97 poprzez użycie technik augumentacji, czyli tworzenia nowy danych na bazie danych już istniejących. Jest to przydatna technika, o którą pytanie pojawia się podczas rozmów o pracę :)\n",
        "\n",
        "Będzie to relatywnie trudne, gdyż posiadamy mało danych treningowych, więc należy zrobić mały \"research\" w poszukiwaniu informacji, jak takie dane sobie wygenerować.\n",
        "\n",
        "Polecamy szczególnie:\n",
        "\n",
        "Albumentation library\n",
        "Open CV library"
      ]
    },
    {
      "cell_type": "markdown",
      "id": "3fd0eef9",
      "metadata": {
        "id": "3fd0eef9"
      },
      "source": [
        "#### albumentations"
      ]
    },
    {
      "cell_type": "code",
      "execution_count": 21,
      "id": "dcb21346",
      "metadata": {
        "id": "dcb21346"
      },
      "outputs": [],
      "source": [
        "# Definicja transformacji\n",
        "from tensorflow.keras.preprocessing.image import ImageDataGenerator\n",
        "\n",
        "datagen = ImageDataGenerator(\n",
        "    #rotation_range=15,\n",
        "    #width_shift_range=0.1,\n",
        "    #height_shift_range=0.1,\n",
        "    #zoom_range=0.1,\n",
        "    horizontal_flip=True\n",
        ")\n",
        "\n",
        "\n"
      ]
    },
    {
      "cell_type": "code",
      "execution_count": 24,
      "id": "890967cb",
      "metadata": {
        "id": "890967cb"
      },
      "outputs": [],
      "source": [
        "# Dodanie wymiaru kanału\n",
        "X_train_aug = X_train.reshape(-1, 28, 28, 1)\n",
        "X_test_aug = X_test.reshape(-1, 28, 28, 1)"
      ]
    },
    {
      "cell_type": "code",
      "execution_count": 25,
      "id": "9b243c5c",
      "metadata": {
        "id": "9b243c5c"
      },
      "outputs": [],
      "source": [
        "\n",
        "# Teraz można wywołać fit()\n",
        "datagen.fit(X_train_aug)"
      ]
    },
    {
      "cell_type": "code",
      "execution_count": 27,
      "id": "09d3dcb4",
      "metadata": {
        "id": "09d3dcb4"
      },
      "outputs": [],
      "source": [
        "\n",
        "\n",
        "# Budowa modelu CNN\n",
        "\n",
        "model_aug = Sequential()\n",
        "model_aug.add(Conv2D(filters=32, kernel_size=(3, 3), activation='relu', strides=1, padding='same',\n",
        "                 data_format='channels_last', input_shape=(28,28,1)))\n",
        "model_aug.add(BatchNormalization())\n",
        "\n",
        "model_aug.add(Conv2D(filters=32, kernel_size=(3, 3), activation='relu', strides=1, padding='same',\n",
        "                 data_format='channels_last'))\n",
        "model_aug.add(BatchNormalization())\n",
        "model_aug.add(Dropout(0.25))\n",
        "\n",
        "model_aug.add(Conv2D(filters=64, kernel_size=(3, 3), activation='relu', strides=1, padding='same',\n",
        "                 data_format='channels_last'))\n",
        "model_aug.add(MaxPooling2D(pool_size=(2, 2)))\n",
        "model_aug.add(Dropout(0.25))\n",
        "\n",
        "\n",
        "model_aug.add(Conv2D(filters=128, kernel_size=(3, 3), activation='relu', strides=1, padding='same',\n",
        "                 data_format='channels_last'))\n",
        "model_aug.add(BatchNormalization())\n",
        "model.add(Dropout(0.25))\n",
        "\n",
        "model_aug.add(Flatten())\n",
        "model_aug.add(Dense(512, activation='relu'))\n",
        "model_aug.add(BatchNormalization())\n",
        "model_aug.add(Dropout(0.5))\n",
        "model_aug.add(Dense(128, activation='relu'))\n",
        "model_aug.add(BatchNormalization())\n",
        "model_aug.add(Dropout(0.5))\n",
        "model_aug.add(Dense(10, activation='softmax'))\n",
        "\n"
      ]
    },
    {
      "cell_type": "code",
      "execution_count": 29,
      "id": "d7117174",
      "metadata": {
        "id": "d7117174"
      },
      "outputs": [],
      "source": [
        "# kompilacja\n",
        "model_aug.compile(optimizer='adam', loss='sparse_categorical_crossentropy', metrics=['accuracy'])"
      ]
    },
    {
      "cell_type": "code",
      "execution_count": 31,
      "id": "ba398d77",
      "metadata": {
        "id": "ba398d77"
      },
      "outputs": [
        {
          "name": "stdout",
          "output_type": "stream",
          "text": [
            "Epoch 1/10\n",
            "844/844 - 619s - 733ms/step - accuracy: 0.8225 - loss: 0.5096 - val_accuracy: 0.2852 - val_loss: 856.0127\n",
            "Epoch 2/10\n",
            "844/844 - 618s - 732ms/step - accuracy: 0.8872 - loss: 0.3249 - val_accuracy: 0.3508 - val_loss: 265.4170\n",
            "Epoch 3/10\n",
            "844/844 - 621s - 736ms/step - accuracy: 0.9022 - loss: 0.2794 - val_accuracy: 0.3119 - val_loss: 309.2521\n",
            "Epoch 4/10\n",
            "844/844 - 686s - 813ms/step - accuracy: 0.9104 - loss: 0.2532 - val_accuracy: 0.2137 - val_loss: 922.9216\n",
            "Epoch 5/10\n",
            "844/844 - 645s - 764ms/step - accuracy: 0.9184 - loss: 0.2301 - val_accuracy: 0.3120 - val_loss: 1100.3730\n",
            "Epoch 6/10\n",
            "844/844 - 634s - 751ms/step - accuracy: 0.9242 - loss: 0.2141 - val_accuracy: 0.3398 - val_loss: 628.2769\n",
            "Epoch 7/10\n",
            "844/844 - 627s - 743ms/step - accuracy: 0.9294 - loss: 0.1973 - val_accuracy: 0.3890 - val_loss: 379.4464\n",
            "Epoch 8/10\n",
            "844/844 - 615s - 729ms/step - accuracy: 0.9333 - loss: 0.1850 - val_accuracy: 0.6813 - val_loss: 53.0671\n",
            "Epoch 9/10\n",
            "844/844 - 634s - 752ms/step - accuracy: 0.9366 - loss: 0.1775 - val_accuracy: 0.7475 - val_loss: 18.9238\n",
            "Epoch 10/10\n",
            "844/844 - 618s - 732ms/step - accuracy: 0.9428 - loss: 0.1615 - val_accuracy: 0.7175 - val_loss: 32.1893\n"
          ]
        }
      ],
      "source": [
        "# trenowanie modelu\n",
        "\n",
        "#aug_model = model  # możesz też stworzyć nowy model\n",
        "history_aug = model_aug.fit(\n",
        "    datagen.flow(X_train_aug, y_train, batch_size=64),\n",
        "    epochs=10,\n",
        "    validation_data=(X_test_aug, y_test),\n",
        "    verbose=2\n",
        ")\n"
      ]
    },
    {
      "cell_type": "code",
      "execution_count": 32,
      "id": "9c512bc0",
      "metadata": {
        "id": "9c512bc0"
      },
      "outputs": [
        {
          "data": {
            "text/plain": [
              "<function matplotlib.pyplot.show(close=None, block=None)>"
            ]
          },
          "execution_count": 32,
          "metadata": {},
          "output_type": "execute_result"
        },
        {
          "data": {
            "image/png": "[encoded data removed]",
            "text/plain": [
              "<Figure size 800x500 with 1 Axes>"
            ]
          },
          "metadata": {},
          "output_type": "display_data"
        }
      ],
      "source": [
        "pd.DataFrame(history_aug.history).plot(figsize=(8, 5))\n",
        "plt.grid(True)\n",
        "plt.gca().set_ylim(0, 1)\n",
        "plt.show"
      ]
    },
    {
      "cell_type": "code",
      "execution_count": 33,
      "id": "4c0d566f",
      "metadata": {
        "id": "4c0d566f"
      },
      "outputs": [
        {
          "name": "stderr",
          "output_type": "stream",
          "text": [
            "c:\\Users\\monas\\AppData\\Local\\Programs\\Python\\Python311\\Lib\\site-packages\\tensorflow\\python\\data\\ops\\structured_function.py:258: UserWarning: Even though the `tf.config.experimental_run_functions_eagerly` option is set, this option does not apply to tf.data functions. To force eager execution of tf.data functions, please use `tf.data.experimental.enable_debug_mode()`.\n",
            "  warnings.warn(\n"
          ]
        },
        {
          "name": "stdout",
          "output_type": "stream",
          "text": [
            "\u001b[1m313/313\u001b[0m \u001b[32m━━━━━━━━━━━━━━━━━━━━\u001b[0m\u001b[37m\u001b[0m \u001b[1m27s\u001b[0m 86ms/step\n",
            "probs :  [0. 0. 0. 1. 0. 0. 0. 0. 0. 0.]\n",
            "klasa : 3\n",
            "rzeczywista klasa:  3\n"
          ]
        }
      ],
      "source": [
        "# predykcja\n",
        "y_pred = model_aug.predict(X_test)\n",
        "print(\"probs : \", y_pred[6105])\n",
        "print(\"klasa :\", np.argmax(y_pred[6105]))\n",
        "print(\"rzeczywista klasa: \", y_test[6105])"
      ]
    },
    {
      "cell_type": "code",
      "execution_count": 34,
      "id": "7f11fbac",
      "metadata": {
        "id": "7f11fbac"
      },
      "outputs": [
        {
          "name": "stdout",
          "output_type": "stream",
          "text": [
            "Accuracy na zbiorze testowym: 0.7175\n",
            "Straty na zbiorze testowym: 32.1893\n"
          ]
        }
      ],
      "source": [
        "loss, acc = model_aug.evaluate(X_test, y_test, verbose=0)\n",
        "print(f\"Accuracy na zbiorze testowym: {acc:.4f}\")\n",
        "print(f\"Straty na zbiorze testowym: {loss:.4f}\")"
      ]
    },
    {
      "cell_type": "markdown",
      "id": "1c3624ab",
      "metadata": {},
      "source": [
        "##### niestety model z uzyciem albumentation, dał gorszy wnynik niż model w którym nie użyłem albumentation .......\n",
        "##### 72% (z albumentation) vs 93%  na zbiorze testowym"
      ]
    }
  ],
  "metadata": {
    "accelerator": "GPU",
    "colab": {
      "gpuType": "T4",
      "provenance": []
    },
    "kernelspec": {
      "display_name": "Python 3",
      "name": "python3"
    },
    "language_info": {
      "codemirror_mode": {
        "name": "ipython",
        "version": 3
      },
      "file_extension": ".py",
      "mimetype": "text/x-python",
      "name": "python",
      "nbconvert_exporter": "python",
      "pygments_lexer": "ipython3",
      "version": "3.11.0"
    }
  },
  "nbformat": 4,
  "nbformat_minor": 5
}
