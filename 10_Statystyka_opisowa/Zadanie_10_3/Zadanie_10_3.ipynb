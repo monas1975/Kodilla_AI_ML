{
 "cells": [
  {
   "cell_type": "markdown",
   "id": "6b4e82cf-e67d-4d7a-b9a2-9baefefcb6a0",
   "metadata": {},
   "source": [
    "#### Zadanie 10_3"
   ]
  },
  {
   "cell_type": "markdown",
   "id": "936cbf6f-d6df-48e8-85a8-f55e3fb4a6e2",
   "metadata": {},
   "source": [
    "Stwórz dane z rozkładu normalnego o średniej 3 i odchyleniu standardowym 1 dla 100 oraz 10 000. Na podstawie tych sztucznie stworzonych zbiorów oblicz statystyki poznane w module statystki opisowej. Opisz różnice pomiędzy statystkami i wynik swojej pracy wyślij Mentorowi jako Jupyter Noteboook zapisany w Github."
   ]
  },
  {
   "cell_type": "code",
   "execution_count": 235,
   "id": "26f23d20-f89c-473e-962f-ab06669c7861",
   "metadata": {},
   "outputs": [],
   "source": [
    "# manipulacja danymi\n",
    "import numpy as np\n",
    "import pandas as pd"
   ]
  },
  {
   "cell_type": "code",
   "execution_count": 236,
   "id": "6139bd45-845e-4bd9-9177-b7b928929f72",
   "metadata": {},
   "outputs": [],
   "source": [
    "# wizualizacja danych\n",
    "import matplotlib.pyplot as plt\n",
    "import seaborn as sns"
   ]
  },
  {
   "cell_type": "code",
   "execution_count": 237,
   "id": "c4f50252-8480-45da-8be0-9009c4463e6d",
   "metadata": {},
   "outputs": [],
   "source": [
    "# statystyczna analiza danych\n",
    "from scipy import stats"
   ]
  },
  {
   "cell_type": "code",
   "execution_count": 238,
   "id": "685e902a-d6ac-4fc0-bfb7-db2bc8f2bcb3",
   "metadata": {},
   "outputs": [],
   "source": [
    "# Tworzenie rozkłady normalnego o sredniej 3 i odchyleniu standardowym 1 \n",
    "# dla 100 elementów\n",
    "mu = 3 #średnia\n",
    "sigma =  1 #odchylenie standardowe\n",
    "n = 100 # ilość elementów\n",
    "np.random.seed(42) # ustalenie odtwarzalności wyników dla 100 i dla 10000 elementów\n",
    "x_100 = np.random.normal(mu, sigma, n)"
   ]
  },
  {
   "cell_type": "code",
   "execution_count": 239,
   "id": "73734dcd-a1d0-4c17-837e-378ed285e2a8",
   "metadata": {},
   "outputs": [],
   "source": [
    "# Tworzenie rozkłady normalnego o sredniej 3 i odchyleniu standardowym 1 \n",
    "# dla 10000 elementów\n",
    "mu = 3 #średnia\n",
    "sigma =  1 #odchylenie standardowe\n",
    "n = 10000 # ilość elementów\n",
    "x_10k = np.random.normal(mu, sigma, n)"
   ]
  },
  {
   "cell_type": "markdown",
   "id": "5536c8e5-bf80-4945-be7a-a2346b34113f",
   "metadata": {},
   "source": [
    "#### średnia"
   ]
  },
  {
   "cell_type": "code",
   "execution_count": 240,
   "id": "3bb0f23e-3f4d-4747-b3a2-391d3f132f99",
   "metadata": {},
   "outputs": [
    {
     "name": "stdout",
     "output_type": "stream",
     "text": [
      "2.8961534826059054\n"
     ]
    }
   ],
   "source": [
    "# obliczenie średniej dla 100 elementow\n",
    "mean_100 = np.mean(x_100)\n",
    "print(mean_100)\n",
    "#print(np.round(mean_100))"
   ]
  },
  {
   "cell_type": "code",
   "execution_count": 241,
   "id": "80b65854-db5c-4bc5-8f0b-efa191856816",
   "metadata": {},
   "outputs": [
    {
     "name": "stdout",
     "output_type": "stream",
     "text": [
      "2.9988210653172964\n"
     ]
    }
   ],
   "source": [
    "# obliczenie średniej dla 10000 elementow\n",
    "mean_10k = np.mean(x_10k)\n",
    "print(mean_10k)\n",
    "#print(np.round(mean_10k))"
   ]
  },
  {
   "cell_type": "markdown",
   "id": "c4fafce7-d3e3-4abb-bb99-f8862c3ca2dc",
   "metadata": {},
   "source": [
    "średnia dla zbioru 10000 jest bliższa założonej sredniej (=3), niż w przypadku sredniej dla zbioru 100 elementowego"
   ]
  },
  {
   "cell_type": "markdown",
   "id": "ad320248-ae57-43dd-a067-8be246a55bcb",
   "metadata": {},
   "source": [
    "#### min / max"
   ]
  },
  {
   "cell_type": "code",
   "execution_count": 242,
   "id": "8fb2307f-f8f4-4a7c-9876-c8c964f6bec9",
   "metadata": {},
   "outputs": [
    {
     "name": "stdout",
     "output_type": "stream",
     "text": [
      "min_100=   0.38025489591025563\n",
      "max_100=   4.852278184508938\n"
     ]
    }
   ],
   "source": [
    "#min dla 100 elementów\n",
    "min_100 = np.min(x_100)\n",
    "#max dla 100 elementów\n",
    "max_100 = np.max(x_100)\n",
    "print(\"min_100=   \" + str(min_100))\n",
    "print(\"max_100=   \" + str(max_100))"
   ]
  },
  {
   "cell_type": "code",
   "execution_count": 243,
   "id": "f74cb499-417e-448c-9aef-d365831f837a",
   "metadata": {},
   "outputs": [
    {
     "name": "stdout",
     "output_type": "stream",
     "text": [
      "min_10k=   -0.9224002516183423\n",
      "max_10k=   6.926237706436327\n"
     ]
    }
   ],
   "source": [
    "#min dla 10000 elementów\n",
    "min_10k = np.min(x_10k)\n",
    "#max dla 10000 elementów\n",
    "max_10k = np.max(x_10k)\n",
    "print(\"min_10k=   \" + str(min_10k))\n",
    "print(\"max_10k=   \" + str(max_10k))"
   ]
  },
  {
   "cell_type": "markdown",
   "id": "bb4c46e4-007e-4bd8-84f0-f0eeacfb1298",
   "metadata": {},
   "source": [
    "#### mediana"
   ]
  },
  {
   "cell_type": "code",
   "execution_count": 244,
   "id": "2a62f00e-dd88-4fe1-96c1-0cffc11c9d08",
   "metadata": {},
   "outputs": [
    {
     "name": "stdout",
     "output_type": "stream",
     "text": [
      "2.8730437082202873\n"
     ]
    }
   ],
   "source": [
    "#obliczenie mediany, wartość środkowa dla 100 elementow\n",
    "median_100 = np.median(x_100)\n",
    "print(median_100)"
   ]
  },
  {
   "cell_type": "code",
   "execution_count": 245,
   "id": "27f312b3-46c0-4928-948d-34d31c627b5c",
   "metadata": {},
   "outputs": [
    {
     "name": "stdout",
     "output_type": "stream",
     "text": [
      "2.998834844229987\n"
     ]
    }
   ],
   "source": [
    "#obliczenie mediany, wartość środkowa dla 10000 elementow\n",
    "median_10k = np.median(x_10k)\n",
    "print(median_10k)"
   ]
  },
  {
   "cell_type": "markdown",
   "id": "0a63b9ee-2baf-4f84-87c2-d5af135b1598",
   "metadata": {},
   "source": [
    "#### moda"
   ]
  },
  {
   "cell_type": "code",
   "execution_count": 246,
   "id": "dc77728a-ef0c-48aa-9726-e49ea7c67e99",
   "metadata": {},
   "outputs": [
    {
     "name": "stdout",
     "output_type": "stream",
     "text": [
      "ModeResult(mode=np.float64(0.38025489591025563), count=np.int64(1))\n"
     ]
    }
   ],
   "source": [
    "#moda dla 100 elementów\n",
    "mode_100 = stats.mode(x_100)\n",
    "print(mode_100)"
   ]
  },
  {
   "cell_type": "code",
   "execution_count": 247,
   "id": "4aef14aa-e485-4b13-8ba0-f6b7cf80bf09",
   "metadata": {},
   "outputs": [
    {
     "name": "stdout",
     "output_type": "stream",
     "text": [
      "ModeResult(mode=np.float64(-0.9224002516183423), count=np.int64(1))\n"
     ]
    }
   ],
   "source": [
    "#moda dla 10000 elementów\n",
    "mode_10k = stats.mode(x_10k)\n",
    "print(mode_10k)"
   ]
  },
  {
   "cell_type": "markdown",
   "id": "fd3226c5-7fc3-4a33-b7f1-f91893bc546e",
   "metadata": {},
   "source": [
    "#### kwartyle"
   ]
  },
  {
   "cell_type": "code",
   "execution_count": 248,
   "id": "e16fa1bd-898e-4e5c-8279-d38d43b8bf64",
   "metadata": {},
   "outputs": [
    {
     "name": "stdout",
     "output_type": "stream",
     "text": [
      "Q0_100: 0.38025489591025563\n",
      "Q1_100: 2.0\n",
      "Q2_100: 2.8730437082202873\n",
      "Q3_100: 3.0\n",
      "Q4_100: 5.0\n"
     ]
    }
   ],
   "source": [
    "#kwartyle dla 100 elementów\n",
    "q0_100 = np.quantile(x_100, 0.0)\n",
    "q1_100 = np.round(np.quantile(x_100, 0.25))\n",
    "q3_100 = np.round(np.quantile(x_100, 0.75))\n",
    "q4_100 = np.round(np.quantile(x_100, 1.0))\n",
    "print(f'Q0_100: {q0_100}')\n",
    "print(f'Q1_100: {q1_100}')\n",
    "print(f'Q2_100: {median_100}')\n",
    "print(f'Q3_100: {q3_100}')\n",
    "print(f'Q4_100: {q4_100}')"
   ]
  },
  {
   "cell_type": "code",
   "execution_count": 249,
   "id": "566366a4-b5c3-44b9-bdaa-4c29b530f2d6",
   "metadata": {},
   "outputs": [
    {
     "name": "stdout",
     "output_type": "stream",
     "text": [
      "Q0_10k: -0.9224002516183423\n",
      "Q1_10k: 2.0\n",
      "Q2_10k: 2.998834844229987\n",
      "Q3_10k: 4.0\n",
      "Q4_10k: 7.0\n"
     ]
    }
   ],
   "source": [
    "#kwartyle dla 10000 elementów\n",
    "q0_10k = np.quantile(x_10k, 0.0)\n",
    "q1_10k = np.round(np.quantile(x_10k, 0.25))\n",
    "q3_10k = np.round(np.quantile(x_10k, 0.75))\n",
    "q4_10k = np.round(np.quantile(x_10k, 1.0))\n",
    "print(f'Q0_10k: {q0_10k}')\n",
    "print(f'Q1_10k: {q1_10k}')\n",
    "print(f'Q2_10k: {median_10k}')\n",
    "print(f'Q3_10k: {q3_10k}')\n",
    "print(f'Q4_10k: {q4_10k}')"
   ]
  },
  {
   "cell_type": "markdown",
   "id": "741be887-c9ff-4d17-b80b-3b5f73b495a9",
   "metadata": {},
   "source": [
    "#### Histogram"
   ]
  },
  {
   "cell_type": "code",
   "execution_count": 250,
   "id": "7511a66a-787a-48ea-8934-ddedb0ddaf41",
   "metadata": {},
   "outputs": [
    {
     "data": {
      "image/png": "[encoded data removed]",
      "text/plain": [
       "<Figure size 640x480 with 1 Axes>"
      ]
     },
     "metadata": {},
     "output_type": "display_data"
    }
   ],
   "source": [
    "# histogram dla zbioru 100 elemntów\n",
    "plt.hist(x_100, bins=10)\n",
    "plt.axvline(x = mean_100, color='red', label = 'Średnia')\n",
    "plt.axvline(x = median_100, color='green', label = 'Mediana')\n",
    "plt.axvline(x = mode_100[0], color='orange', label = 'Moda',lw=3)\n",
    "plt.axvline(x = q0, color='black', label = 'Min')\n",
    "plt.axvline(x = q1, color='black', label = 'Q1')\n",
    "plt.axvline(x = q3, color='black', label = 'Q3')\n",
    "plt.axvline(x = q4, color='black', label = 'Max')\n",
    "plt.legend(loc=(1.05,0.55))\n",
    "plt.xticks(np.arange(0, 10, 1)) # Znacznikco 25\n",
    "#plt.yticks(np.arange(0,100,10))\n",
    "plt.xticks(rotation=90)\n",
    "plt.show()\n"
   ]
  },
  {
   "cell_type": "code",
   "execution_count": 262,
   "id": "2ad75c47-47cf-49db-841a-0f58fcbb089c",
   "metadata": {},
   "outputs": [
    {
     "data": {
      "image/png": "[encoded data removed]",
      "text/plain": [
       "<Figure size 640x480 with 1 Axes>"
      ]
     },
     "metadata": {},
     "output_type": "display_data"
    }
   ],
   "source": [
    "# histogram dla zbioru 10k elemntów\n",
    "plt.hist(x_10k, bins=10)\n",
    "plt.axvline(x = mean_10k, color='red', label = 'Średnia',lw=3)\n",
    "plt.axvline(x = median_10k, color='green', label = 'Mediana')\n",
    "plt.axvline(x = mode_10k[0], color='orange', label = 'Moda',lw=10)\n",
    "plt.axvline(x = q0_10k, color='black', label = 'Min')\n",
    "plt.axvline(x = q1_10k, color='black', label = 'Q1')\n",
    "plt.axvline(x = q3_10k, color='black', label = 'Q3')\n",
    "plt.axvline(x = q4_10k, color='black', label = 'Max')\n",
    "plt.legend(loc=(1.05,0.55))\n",
    "plt.xticks(np.arange(-10, 10, 1)) # Znacznikco 25\n",
    "#plt.yticks(np.arange(0,100,10))\n",
    "plt.xticks(rotation=90)\n",
    "plt.show()"
   ]
  },
  {
   "cell_type": "markdown",
   "id": "067ba5b9-c2bb-44b1-99ee-c4d744dc5e91",
   "metadata": {},
   "source": [
    "#### Zakres"
   ]
  },
  {
   "cell_type": "code",
   "execution_count": 252,
   "id": "1b044a47-206a-4ccd-8dbc-dce1de942374",
   "metadata": {},
   "outputs": [
    {
     "name": "stdout",
     "output_type": "stream",
     "text": [
      "4.472023288598683\n"
     ]
    }
   ],
   "source": [
    "# range 100\n",
    "range_100 = max(x_100) - min(x_100)\n",
    "print(range_100)"
   ]
  },
  {
   "cell_type": "code",
   "execution_count": 253,
   "id": "66cc0e62-3d97-4453-b20a-8a22fd03cca3",
   "metadata": {},
   "outputs": [
    {
     "name": "stdout",
     "output_type": "stream",
     "text": [
      "7.848637958054669\n"
     ]
    }
   ],
   "source": [
    "# range dla 10000\n",
    "range_10k = max(x_10k) - min(x_10k)\n",
    "print(range_10k)"
   ]
  },
  {
   "cell_type": "code",
   "execution_count": 254,
   "id": "cdf57b33-d3a7-4d0b-b1db-7a143931eabc",
   "metadata": {},
   "outputs": [
    {
     "name": "stdout",
     "output_type": "stream",
     "text": [
      "1.0\n"
     ]
    }
   ],
   "source": [
    "#### Rozstęp miedzykwartylowy - IQR dla 100 elementów\n",
    "iqr_100 = q3_100 - q1_100\n",
    "print(iqr_100)"
   ]
  },
  {
   "cell_type": "code",
   "execution_count": 255,
   "id": "386ed050-95ee-474c-a8ed-3f50895a92af",
   "metadata": {},
   "outputs": [
    {
     "name": "stdout",
     "output_type": "stream",
     "text": [
      "2.0\n"
     ]
    }
   ],
   "source": [
    "#### Rozstęp miedzykwartylowy - IQR dla 100 elementów\n",
    "iqr_10k = q3_10k - q1_10k\n",
    "print(iqr_10k)"
   ]
  },
  {
   "cell_type": "code",
   "execution_count": 256,
   "id": "e5256132-15f9-4b64-a814-427db3c0c9f0",
   "metadata": {},
   "outputs": [
    {
     "data": {
      "image/png": "[encoded data removed]",
      "text/plain": [
       "<Figure size 640x480 with 1 Axes>"
      ]
     },
     "metadata": {},
     "output_type": "display_data"
    }
   ],
   "source": [
    "plt.boxplot(x_100)\n",
    "plt.show()"
   ]
  },
  {
   "cell_type": "code",
   "execution_count": 257,
   "id": "a0547198-422b-4074-89fc-7f2f9032e1e8",
   "metadata": {},
   "outputs": [
    {
     "data": {
      "image/png": "[encoded data removed]",
      "text/plain": [
       "<Figure size 640x480 with 1 Axes>"
      ]
     },
     "metadata": {},
     "output_type": "display_data"
    }
   ],
   "source": [
    "# dla zbioru 10000\n",
    "plt.boxplot(x_10k)\n",
    "plt.show()"
   ]
  },
  {
   "cell_type": "markdown",
   "id": "6159360b-db50-411f-a0e2-fd6bcbe79770",
   "metadata": {},
   "source": [
    "#### Wariancja"
   ]
  },
  {
   "cell_type": "code",
   "execution_count": 258,
   "id": "59a9922c-26e5-45d9-9beb-5e0733cdd59f",
   "metadata": {},
   "outputs": [
    {
     "name": "stdout",
     "output_type": "stream",
     "text": [
      "0.82476989363016\n"
     ]
    }
   ],
   "source": [
    "# dla zbioru 100 elemntowego\n",
    "variance_100 = np.var(x_100, ddof=1)\n",
    "print(variance_100)"
   ]
  },
  {
   "cell_type": "code",
   "execution_count": 259,
   "id": "cad7d737-e2fe-4667-bef3-09428870b21e",
   "metadata": {},
   "outputs": [
    {
     "name": "stdout",
     "output_type": "stream",
     "text": [
      "1.0074968272097058\n"
     ]
    }
   ],
   "source": [
    "# dla zbioru 10000 elemntowego\n",
    "variance_10k = np.var(x_10k, ddof=1)\n",
    "print(variance_10k)"
   ]
  },
  {
   "cell_type": "markdown",
   "id": "f1b952c6-d6a1-486a-a1f1-c7bde7d21b71",
   "metadata": {},
   "source": [
    "#### Odchylenie standardowe"
   ]
  },
  {
   "cell_type": "code",
   "execution_count": 260,
   "id": "90f7a452-621c-47f2-805b-b3daa08455bf",
   "metadata": {},
   "outputs": [
    {
     "name": "stdout",
     "output_type": "stream",
     "text": [
      "0.9081684280078007\n"
     ]
    }
   ],
   "source": [
    "# dla 100 elementów\n",
    "standard_deviation_100 = np.std(x_100, ddof=1)\n",
    "print(standard_deviation_100)"
   ]
  },
  {
   "cell_type": "code",
   "execution_count": 261,
   "id": "13774f38-112a-4db5-a2fd-3fe59bbd0907",
   "metadata": {},
   "outputs": [
    {
     "name": "stdout",
     "output_type": "stream",
     "text": [
      "1.0037414145135717\n"
     ]
    }
   ],
   "source": [
    "# dla 10000 elementów\n",
    "standard_deviation_10k = np.std(x_10k, ddof=1)\n",
    "print(standard_deviation_10k)"
   ]
  },
  {
   "cell_type": "markdown",
   "id": "bcfb5a4e-f846-4fe9-bac0-1c5a5cf38715",
   "metadata": {},
   "source": [
    "##### Wnioski: <br>\n",
    "dla zbioru o 10000 elementów obliczona średnia i odchylenie standardowe, sa znacznie bliżej założonych parametrów, niż w przypadku zbioru 100 elementowego. i tak: <br>\n",
    "standard_deviation_100 = 0.9081  vs standard_deviation_10k = 1.004 vs założone odchylenie standardowe = 1 <br>\n",
    "mean_100 = 2.896 vs mean_10k = 2.999 vs ustalona srednia = 3\n"
   ]
  },
  {
   "cell_type": "code",
   "execution_count": null,
   "id": "23609816-b2d4-4812-9006-58a4e517cbe4",
   "metadata": {},
   "outputs": [],
   "source": []
  },
  {
   "cell_type": "code",
   "execution_count": null,
   "id": "c1361ca9-8e32-403c-bc19-a240513ada31",
   "metadata": {},
   "outputs": [],
   "source": []
  }
 ],
 "metadata": {
  "kernelspec": {
   "display_name": "Python 3.11",
   "language": "python",
   "name": "python311"
  },
  "language_info": {
   "codemirror_mode": {
    "name": "ipython",
    "version": 3
   },
   "file_extension": ".py",
   "mimetype": "text/x-python",
   "name": "python",
   "nbconvert_exporter": "python",
   "pygments_lexer": "ipython3",
   "version": "3.11.13"
  }
 },
 "nbformat": 4,
 "nbformat_minor": 5
}
